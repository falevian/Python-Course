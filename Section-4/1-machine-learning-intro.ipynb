{
 "cells": [
  {
   "cell_type": "markdown",
   "metadata": {
    "slideshow": {
     "slide_type": "slide"
    }
   },
   "source": [
    "# Machine Learning\n",
    "\n",
    "Diego A. Tejada Arango, Rafael Vida Delgado. 2020\n",
    "\n",
    "## Introducción a machine Learning en Python\n",
    "\n",
    "En este apartado veremos algun ejemplo de uso de Python en Machine Learning. \n",
    "No profundizaremos, podríamos tirarnos semanas, pero sí se puede hacer alguna cosa muy potente  con pocos comandos muy interesantes.\n",
    "Repasemos los posibles modelos."
   ]
  },
  {
   "cell_type": "markdown",
   "metadata": {
    "slideshow": {
     "slide_type": "slide"
    }
   },
   "source": [
    "## Machine Learning Algorithms\n",
    "\n",
    "![ml-algorithms.jpg](./images/ml-algorithms.jpg)"
   ]
  },
  {
   "cell_type": "markdown",
   "metadata": {
    "slideshow": {
     "slide_type": "slide"
    }
   },
   "source": [
    "## Supervised vs Unsupervised\n",
    "\n",
    "![ml-supervised-vs-unsupervised.png](./images/ml-supervised-vs-unsupervised.png)"
   ]
  },
  {
   "cell_type": "markdown",
   "metadata": {
    "slideshow": {
     "slide_type": "slide"
    }
   },
   "source": [
    "### Supervised Learning\n",
    "-Learn the relationship between some input variables (INPUT, FEATURES, X) and outgoing ones (OUTPUT, TARGET, Y)\n",
    "\n",
    "-From some labeled examples (we know the correct input and output), the algorithm is able to predict the value of the output for new cases not used in the learning or training process.\n",
    "\n",
    "### Unsupervised Learning\n",
    "-The algorithm extracts knowledge from the input data without the necessity of telling it what to learn\n",
    "\n",
    "-Find regularities in input data by discovering patterns\n",
    "\n",
    "-There is not a target"
   ]
  },
  {
   "cell_type": "markdown",
   "metadata": {
    "slideshow": {
     "slide_type": "slide"
    }
   },
   "source": [
    "### Librería para ML en Python\n",
    "https://scikit-learn.org/stable/index.html\n",
    "![scikit-learn.png](./images/scikit-learn.png)\n"
   ]
  },
  {
   "cell_type": "markdown",
   "metadata": {
    "slideshow": {
     "slide_type": "slide"
    }
   },
   "source": [
    "## Linear Regression (Supervised)\n",
    "Recordemos que se trata de ajustar los datos a una línea de la forma $$y=mx+b$$"
   ]
  },
  {
   "cell_type": "code",
   "execution_count": 2,
   "metadata": {
    "slideshow": {
     "slide_type": "subslide"
    }
   },
   "outputs": [
    {
     "data": {
      "text/html": [
       "<div>\n",
       "<style scoped>\n",
       "    .dataframe tbody tr th:only-of-type {\n",
       "        vertical-align: middle;\n",
       "    }\n",
       "\n",
       "    .dataframe tbody tr th {\n",
       "        vertical-align: top;\n",
       "    }\n",
       "\n",
       "    .dataframe thead th {\n",
       "        text-align: right;\n",
       "    }\n",
       "</style>\n",
       "<table border=\"1\" class=\"dataframe\">\n",
       "  <thead>\n",
       "    <tr style=\"text-align: right;\">\n",
       "      <th></th>\n",
       "      <th>Precio</th>\n",
       "      <th>Superficie</th>\n",
       "      <th>Habitaciones</th>\n",
       "      <th>Altura</th>\n",
       "      <th>Exterior</th>\n",
       "      <th>Distanciasol</th>\n",
       "    </tr>\n",
       "  </thead>\n",
       "  <tbody>\n",
       "    <tr>\n",
       "      <th>0</th>\n",
       "      <td>1950</td>\n",
       "      <td>153.0</td>\n",
       "      <td>4</td>\n",
       "      <td>2</td>\n",
       "      <td>1</td>\n",
       "      <td>3.6</td>\n",
       "    </tr>\n",
       "    <tr>\n",
       "      <th>1</th>\n",
       "      <td>1250</td>\n",
       "      <td>60.0</td>\n",
       "      <td>1</td>\n",
       "      <td>6</td>\n",
       "      <td>1</td>\n",
       "      <td>2.3</td>\n",
       "    </tr>\n",
       "    <tr>\n",
       "      <th>2</th>\n",
       "      <td>950</td>\n",
       "      <td>34.0</td>\n",
       "      <td>1</td>\n",
       "      <td>4</td>\n",
       "      <td>1</td>\n",
       "      <td>2.7</td>\n",
       "    </tr>\n",
       "    <tr>\n",
       "      <th>3</th>\n",
       "      <td>2350</td>\n",
       "      <td>126.0</td>\n",
       "      <td>3</td>\n",
       "      <td>5</td>\n",
       "      <td>1</td>\n",
       "      <td>2.3</td>\n",
       "    </tr>\n",
       "    <tr>\n",
       "      <th>4</th>\n",
       "      <td>630</td>\n",
       "      <td>26.0</td>\n",
       "      <td>1</td>\n",
       "      <td>6</td>\n",
       "      <td>1</td>\n",
       "      <td>1.9</td>\n",
       "    </tr>\n",
       "  </tbody>\n",
       "</table>\n",
       "</div>"
      ],
      "text/plain": [
       "   Precio  Superficie  Habitaciones  Altura  Exterior  Distanciasol\n",
       "0    1950       153.0             4       2         1           3.6\n",
       "1    1250        60.0             1       6         1           2.3\n",
       "2     950        34.0             1       4         1           2.7\n",
       "3    2350       126.0             3       5         1           2.3\n",
       "4     630        26.0             1       6         1           1.9"
      ]
     },
     "metadata": {},
     "output_type": "display_data"
    },
    {
     "data": {
      "text/html": [
       "<div>\n",
       "<style scoped>\n",
       "    .dataframe tbody tr th:only-of-type {\n",
       "        vertical-align: middle;\n",
       "    }\n",
       "\n",
       "    .dataframe tbody tr th {\n",
       "        vertical-align: top;\n",
       "    }\n",
       "\n",
       "    .dataframe thead th {\n",
       "        text-align: right;\n",
       "    }\n",
       "</style>\n",
       "<table border=\"1\" class=\"dataframe\">\n",
       "  <thead>\n",
       "    <tr style=\"text-align: right;\">\n",
       "      <th></th>\n",
       "      <th>Precio</th>\n",
       "      <th>Superficie</th>\n",
       "      <th>Habitaciones</th>\n",
       "      <th>Altura</th>\n",
       "      <th>Exterior</th>\n",
       "      <th>Distanciasol</th>\n",
       "    </tr>\n",
       "  </thead>\n",
       "  <tbody>\n",
       "    <tr>\n",
       "      <th>count</th>\n",
       "      <td>154.000000</td>\n",
       "      <td>154.000000</td>\n",
       "      <td>154.000000</td>\n",
       "      <td>154.000000</td>\n",
       "      <td>154.000000</td>\n",
       "      <td>154.000000</td>\n",
       "    </tr>\n",
       "    <tr>\n",
       "      <th>mean</th>\n",
       "      <td>1227.077922</td>\n",
       "      <td>67.071429</td>\n",
       "      <td>1.642857</td>\n",
       "      <td>2.987013</td>\n",
       "      <td>0.571429</td>\n",
       "      <td>2.712987</td>\n",
       "    </tr>\n",
       "    <tr>\n",
       "      <th>std</th>\n",
       "      <td>452.266154</td>\n",
       "      <td>32.557261</td>\n",
       "      <td>0.853126</td>\n",
       "      <td>1.919923</td>\n",
       "      <td>0.496486</td>\n",
       "      <td>0.732147</td>\n",
       "    </tr>\n",
       "    <tr>\n",
       "      <th>min</th>\n",
       "      <td>530.000000</td>\n",
       "      <td>22.000000</td>\n",
       "      <td>0.000000</td>\n",
       "      <td>-1.000000</td>\n",
       "      <td>0.000000</td>\n",
       "      <td>1.400000</td>\n",
       "    </tr>\n",
       "    <tr>\n",
       "      <th>25%</th>\n",
       "      <td>1000.000000</td>\n",
       "      <td>45.000000</td>\n",
       "      <td>1.000000</td>\n",
       "      <td>2.000000</td>\n",
       "      <td>0.000000</td>\n",
       "      <td>2.200000</td>\n",
       "    </tr>\n",
       "    <tr>\n",
       "      <th>50%</th>\n",
       "      <td>1200.000000</td>\n",
       "      <td>63.500000</td>\n",
       "      <td>2.000000</td>\n",
       "      <td>3.000000</td>\n",
       "      <td>1.000000</td>\n",
       "      <td>2.500000</td>\n",
       "    </tr>\n",
       "    <tr>\n",
       "      <th>75%</th>\n",
       "      <td>1300.000000</td>\n",
       "      <td>76.000000</td>\n",
       "      <td>2.000000</td>\n",
       "      <td>4.000000</td>\n",
       "      <td>1.000000</td>\n",
       "      <td>3.200000</td>\n",
       "    </tr>\n",
       "    <tr>\n",
       "      <th>max</th>\n",
       "      <td>3500.000000</td>\n",
       "      <td>233.000000</td>\n",
       "      <td>5.000000</td>\n",
       "      <td>7.000000</td>\n",
       "      <td>1.000000</td>\n",
       "      <td>5.300000</td>\n",
       "    </tr>\n",
       "  </tbody>\n",
       "</table>\n",
       "</div>"
      ],
      "text/plain": [
       "            Precio  Superficie  Habitaciones      Altura    Exterior  \\\n",
       "count   154.000000  154.000000    154.000000  154.000000  154.000000   \n",
       "mean   1227.077922   67.071429      1.642857    2.987013    0.571429   \n",
       "std     452.266154   32.557261      0.853126    1.919923    0.496486   \n",
       "min     530.000000   22.000000      0.000000   -1.000000    0.000000   \n",
       "25%    1000.000000   45.000000      1.000000    2.000000    0.000000   \n",
       "50%    1200.000000   63.500000      2.000000    3.000000    1.000000   \n",
       "75%    1300.000000   76.000000      2.000000    4.000000    1.000000   \n",
       "max    3500.000000  233.000000      5.000000    7.000000    1.000000   \n",
       "\n",
       "       Distanciasol  \n",
       "count    154.000000  \n",
       "mean       2.712987  \n",
       "std        0.732147  \n",
       "min        1.400000  \n",
       "25%        2.200000  \n",
       "50%        2.500000  \n",
       "75%        3.200000  \n",
       "max        5.300000  "
      ]
     },
     "metadata": {},
     "output_type": "display_data"
    }
   ],
   "source": [
    "# importemos el dataset y miremos los datos\n",
    "import matplotlib.pyplot as plt \n",
    "import pandas as pd\n",
    "import numpy as np  \n",
    "from sklearn.linear_model import LinearRegression\n",
    "\n",
    "data = pd.read_excel('./datasets/datasetalquilereschamberi.xlsx')\n",
    "data = data.dropna() #quitar las filas en las que no tenemos valores\n",
    "display(data.head())\n",
    "display(data.describe())"
   ]
  },
  {
   "cell_type": "code",
   "execution_count": 3,
   "metadata": {
    "slideshow": {
     "slide_type": "slide"
    },
    "tags": []
   },
   "outputs": [
    {
     "name": "stdout",
     "output_type": "stream",
     "text": [
      "Intercept: \n",
      " [437.06899346]\n",
      "Coefficients: \n",
      " [[11.77862087]]\n",
      "R2 score: \n",
      " 0.718946276593653\n",
      "mean absolute error: \n",
      " 168.9745665599612\n",
      "Predicted values: \n",
      " [[1026.00003716]]\n"
     ]
    },
    {
     "data": {
      "image/png": "[encoded data removed]",
      "text/plain": [
       "<Figure size 432x288 with 1 Axes>"
      ]
     },
     "metadata": {
      "needs_background": "light"
     },
     "output_type": "display_data"
    }
   ],
   "source": [
    "# Pasamos los valores a estructuras 2D X=(n_samples, n_features), Y=(n_samples, n_targets)\n",
    "X = data[['Superficie']].values.reshape(-1, 1) \n",
    "Y = data['Precio'].values.reshape(-1, 1)  \n",
    "\n",
    "# ajustamos el modelo\n",
    "model = LinearRegression() \n",
    "model.fit(X, Y) \n",
    "Y_pred = model.predict(X)  \n",
    "\n",
    "# imprimimos los resultados del modelo\n",
    "print('Intercept: \\n', model.intercept_)\n",
    "print('Coefficients: \\n', model.coef_)\n",
    "print('R2 score: \\n', model.score(X,Y))\n",
    "print('mean absolute error: \\n',str(np.mean(abs(Y_pred - Y))))\n",
    "\n",
    "# podemos hacer predicción con sklearn\n",
    "nueva_superficie = 50\n",
    "print ('Predicted values: \\n', model.predict([[nueva_superficie]]))\n",
    "\n",
    "# Lo pintamos\n",
    "plt.scatter(X, Y, alpha=0.7)\n",
    "plt.plot(X, Y_pred, color='orange',alpha=0.7)\n",
    "plt.show()"
   ]
  },
  {
   "cell_type": "markdown",
   "metadata": {
    "slideshow": {
     "slide_type": "slide"
    }
   },
   "source": [
    "### Training y Test"
   ]
  },
  {
   "cell_type": "code",
   "execution_count": 4,
   "metadata": {
    "slideshow": {
     "slide_type": "subslide"
    },
    "tags": []
   },
   "outputs": [
    {
     "name": "stdout",
     "output_type": "stream",
     "text": [
      "X_train shape: (115, 1)\n",
      "y_train shape: (115, 1)\n"
     ]
    }
   ],
   "source": [
    "from sklearn.model_selection import train_test_split\n",
    "X_train, X_test, y_train, y_test = train_test_split(\n",
    "    X, Y, random_state=0)\n",
    "\n",
    "#Tenemos la entrada del entrenamient en X_train y la salida en y_train. Y lo mismo para test\n",
    "\n",
    "print(\"X_train shape:\", X_train.shape)\n",
    "print(\"y_train shape:\", y_train.shape)"
   ]
  },
  {
   "cell_type": "code",
   "execution_count": 6,
   "metadata": {
    "slideshow": {
     "slide_type": "fragment"
    },
    "tags": []
   },
   "outputs": [
    {
     "name": "stdout",
     "output_type": "stream",
     "text": [
      "X_test shape: (39, 1)\n",
      "y_test shape: (39, 1)\n"
     ]
    }
   ],
   "source": [
    "print(\"X_test shape:\", X_test.shape)\n",
    "print(\"y_test shape:\", y_test.shape)"
   ]
  },
  {
   "cell_type": "markdown",
   "metadata": {
    "slideshow": {
     "slide_type": "slide"
    }
   },
   "source": [
    "### Entrenamiento y predicción"
   ]
  },
  {
   "cell_type": "code",
   "execution_count": 7,
   "metadata": {
    "slideshow": {
     "slide_type": "subslide"
    },
    "tags": []
   },
   "outputs": [
    {
     "name": "stdout",
     "output_type": "stream",
     "text": [
      "R2 score - train: \n",
      " 0.6677336418821564\n",
      "Predicted values: \n",
      " [[1032.75227014]]\n"
     ]
    }
   ],
   "source": [
    "# Entrenamiento\n",
    "model.fit(X_train, y_train) \n",
    "print('R2 score - train: \\n', model.score(X_train,y_train))\n",
    "\n",
    "# podemos hacer predicción con sklearn\n",
    "nueva_superficie = 50\n",
    "print ('Predicted values: \\n', model.predict([[nueva_superficie]]))\n"
   ]
  },
  {
   "cell_type": "markdown",
   "metadata": {
    "slideshow": {
     "slide_type": "slide"
    }
   },
   "source": [
    "### Evaluación modelo"
   ]
  },
  {
   "cell_type": "code",
   "execution_count": 8,
   "metadata": {
    "slideshow": {
     "slide_type": "subslide"
    },
    "tags": []
   },
   "outputs": [
    {
     "name": "stdout",
     "output_type": "stream",
     "text": [
      "mean absolute error: \n",
      " 187.4550125674721\n"
     ]
    }
   ],
   "source": [
    "# Hacemos una predicción de todos los valores y compramos con los reales\n",
    "y_pred = model.predict(X_test)\n",
    "\n",
    "print('mean absolute error: \\n',str(np.mean(abs(y_pred - y_test))))"
   ]
  },
  {
   "cell_type": "markdown",
   "metadata": {
    "slideshow": {
     "slide_type": "slide"
    }
   },
   "source": [
    "### Predicción con más columnas"
   ]
  },
  {
   "cell_type": "code",
   "execution_count": 9,
   "metadata": {
    "slideshow": {
     "slide_type": "subslide"
    },
    "tags": []
   },
   "outputs": [
    {
     "name": "stdout",
     "output_type": "stream",
     "text": [
      "Intercept: \n",
      " [423.02006259]\n",
      "Coefficients: \n",
      " [[  9.68434161  49.44352796  26.2146344   66.17337608 -18.65975457]]\n",
      "R2 score: \n",
      " 0.695231764370401\n",
      "mean absolute error: \n",
      " 175.56868381013396\n",
      "Predicted values: \n",
      " [[1212.50902499]]\n"
     ]
    }
   ],
   "source": [
    "# Pasamos los valores a estructuras 2D X=(n_samples, n_features), Y=(n_samples, n_targets)\n",
    "X = data[['Superficie','Habitaciones','Altura','Exterior','Distanciasol']]\n",
    "Y = data['Precio'].values.reshape(-1, 1)  \n",
    "\n",
    "# separamos los datos\n",
    "X_train, X_test, y_train, y_test = train_test_split(\n",
    "    X, Y, random_state=0)\n",
    "\n",
    "# ajustamos el modelo\n",
    "model = LinearRegression() \n",
    "model.fit(X_train, y_train) \n",
    "Y_pred = model.predict(X_test)  \n",
    "\n",
    "# imprimimos los resultados del modelo\n",
    "print('Intercept: \\n', model.intercept_)\n",
    "print('Coefficients: \\n', model.coef_)\n",
    "print('R2 score: \\n', model.score(X_train,y_train))\n",
    "print('mean absolute error: \\n',str(np.mean(abs(Y_pred - y_test))))\n",
    "\n",
    "# podemos hacer predicción con sklearn\n",
    "Superficie = 50\n",
    "Habitaciones = 4\n",
    "Altura = 3\n",
    "Exterior = 1\n",
    "Distanciasol = 2\n",
    "print ('Predicted values: \\n', model.predict([[Superficie,Habitaciones,Altura,Exterior,Distanciasol]]))"
   ]
  },
  {
   "cell_type": "markdown",
   "metadata": {
    "slideshow": {
     "slide_type": "slide"
    }
   },
   "source": [
    "## Multi-layer Perceptron regressor (Supervised)\n",
    "![multi_layer_perceptron.jpg](./images/multi_layer_perceptron.jpg)"
   ]
  },
  {
   "cell_type": "code",
   "execution_count": 10,
   "metadata": {
    "slideshow": {
     "slide_type": "slide"
    },
    "tags": []
   },
   "outputs": [
    {
     "name": "stdout",
     "output_type": "stream",
     "text": [
      "R2 score: \n",
      " 0.5715939792252358\n",
      "mean absolute error: \n",
      " 186.85430204212363\n"
     ]
    },
    {
     "name": "stderr",
     "output_type": "stream",
     "text": [
      "/home/falevian/anaconda3/lib/python3.8/site-packages/sklearn/neural_network/_multilayer_perceptron.py:582: ConvergenceWarning: Stochastic Optimizer: Maximum iterations (1000) reached and the optimization hasn't converged yet.\n",
      "  warnings.warn(\n"
     ]
    }
   ],
   "source": [
    "import sklearn as sk\n",
    "from sklearn.neural_network import MLPRegressor\n",
    "\n",
    "X = data[['Superficie','Habitaciones','Altura','Exterior','Distanciasol']]\n",
    "Y = data['Precio']\n",
    "\n",
    "# separamos los datos\n",
    "X_train, X_test, y_train, y_test = train_test_split(X, Y, random_state=0)\n",
    "\n",
    "\n",
    "NN = MLPRegressor(random_state=1, max_iter=1000)\n",
    "NN.fit(X_train, y_train)\n",
    "Y_pred = NN.predict(X_test)\n",
    "\n",
    "# imprimimos los resultados del modelo\n",
    "print('R2 score: \\n', NN.score(X_train,y_train))\n",
    "print('mean absolute error: \\n',str(np.mean(abs(Y_pred - y_test))))\n",
    "\n",
    "# nunca subestimen el poder una regresión lineal, y \"fancy names\" no siempre son sinónimo de calidad..."
   ]
  },
  {
   "cell_type": "markdown",
   "metadata": {
    "slideshow": {
     "slide_type": "slide"
    }
   },
   "source": [
    "## Clustering (Unsupervised)\n",
    "Existen diferentes algoritmos de agrupación, en este ejemplo se uno de los más populares: k-means\n",
    "![kmean-clustering.png](./images/kmean-clustering.png)"
   ]
  },
  {
   "cell_type": "code",
   "execution_count": 11,
   "metadata": {
    "slideshow": {
     "slide_type": "subslide"
    }
   },
   "outputs": [
    {
     "data": {
      "text/html": [
       "<div>\n",
       "<style scoped>\n",
       "    .dataframe tbody tr th:only-of-type {\n",
       "        vertical-align: middle;\n",
       "    }\n",
       "\n",
       "    .dataframe tbody tr th {\n",
       "        vertical-align: top;\n",
       "    }\n",
       "\n",
       "    .dataframe thead th {\n",
       "        text-align: right;\n",
       "    }\n",
       "</style>\n",
       "<table border=\"1\" class=\"dataframe\">\n",
       "  <thead>\n",
       "    <tr style=\"text-align: right;\">\n",
       "      <th></th>\n",
       "      <th>Precio</th>\n",
       "      <th>Superficie</th>\n",
       "      <th>Habitaciones</th>\n",
       "      <th>Altura</th>\n",
       "      <th>Exterior</th>\n",
       "      <th>Distanciasol</th>\n",
       "    </tr>\n",
       "  </thead>\n",
       "  <tbody>\n",
       "    <tr>\n",
       "      <th>0</th>\n",
       "      <td>1950</td>\n",
       "      <td>153.0</td>\n",
       "      <td>4</td>\n",
       "      <td>2</td>\n",
       "      <td>1</td>\n",
       "      <td>3.6</td>\n",
       "    </tr>\n",
       "    <tr>\n",
       "      <th>1</th>\n",
       "      <td>1250</td>\n",
       "      <td>60.0</td>\n",
       "      <td>1</td>\n",
       "      <td>6</td>\n",
       "      <td>1</td>\n",
       "      <td>2.3</td>\n",
       "    </tr>\n",
       "    <tr>\n",
       "      <th>2</th>\n",
       "      <td>950</td>\n",
       "      <td>34.0</td>\n",
       "      <td>1</td>\n",
       "      <td>4</td>\n",
       "      <td>1</td>\n",
       "      <td>2.7</td>\n",
       "    </tr>\n",
       "    <tr>\n",
       "      <th>3</th>\n",
       "      <td>2350</td>\n",
       "      <td>126.0</td>\n",
       "      <td>3</td>\n",
       "      <td>5</td>\n",
       "      <td>1</td>\n",
       "      <td>2.3</td>\n",
       "    </tr>\n",
       "    <tr>\n",
       "      <th>4</th>\n",
       "      <td>630</td>\n",
       "      <td>26.0</td>\n",
       "      <td>1</td>\n",
       "      <td>6</td>\n",
       "      <td>1</td>\n",
       "      <td>1.9</td>\n",
       "    </tr>\n",
       "    <tr>\n",
       "      <th>...</th>\n",
       "      <td>...</td>\n",
       "      <td>...</td>\n",
       "      <td>...</td>\n",
       "      <td>...</td>\n",
       "      <td>...</td>\n",
       "      <td>...</td>\n",
       "    </tr>\n",
       "    <tr>\n",
       "      <th>155</th>\n",
       "      <td>1350</td>\n",
       "      <td>82.0</td>\n",
       "      <td>3</td>\n",
       "      <td>4</td>\n",
       "      <td>1</td>\n",
       "      <td>2.4</td>\n",
       "    </tr>\n",
       "    <tr>\n",
       "      <th>156</th>\n",
       "      <td>1400</td>\n",
       "      <td>75.0</td>\n",
       "      <td>2</td>\n",
       "      <td>2</td>\n",
       "      <td>0</td>\n",
       "      <td>2.2</td>\n",
       "    </tr>\n",
       "    <tr>\n",
       "      <th>157</th>\n",
       "      <td>1300</td>\n",
       "      <td>100.0</td>\n",
       "      <td>2</td>\n",
       "      <td>0</td>\n",
       "      <td>0</td>\n",
       "      <td>2.4</td>\n",
       "    </tr>\n",
       "    <tr>\n",
       "      <th>158</th>\n",
       "      <td>1200</td>\n",
       "      <td>40.0</td>\n",
       "      <td>0</td>\n",
       "      <td>2</td>\n",
       "      <td>1</td>\n",
       "      <td>1.8</td>\n",
       "    </tr>\n",
       "    <tr>\n",
       "      <th>159</th>\n",
       "      <td>1350</td>\n",
       "      <td>85.0</td>\n",
       "      <td>3</td>\n",
       "      <td>4</td>\n",
       "      <td>1</td>\n",
       "      <td>2.4</td>\n",
       "    </tr>\n",
       "  </tbody>\n",
       "</table>\n",
       "<p>154 rows × 6 columns</p>\n",
       "</div>"
      ],
      "text/plain": [
       "     Precio  Superficie  Habitaciones  Altura  Exterior  Distanciasol\n",
       "0      1950       153.0             4       2         1           3.6\n",
       "1      1250        60.0             1       6         1           2.3\n",
       "2       950        34.0             1       4         1           2.7\n",
       "3      2350       126.0             3       5         1           2.3\n",
       "4       630        26.0             1       6         1           1.9\n",
       "..      ...         ...           ...     ...       ...           ...\n",
       "155    1350        82.0             3       4         1           2.4\n",
       "156    1400        75.0             2       2         0           2.2\n",
       "157    1300       100.0             2       0         0           2.4\n",
       "158    1200        40.0             0       2         1           1.8\n",
       "159    1350        85.0             3       4         1           2.4\n",
       "\n",
       "[154 rows x 6 columns]"
      ]
     },
     "metadata": {},
     "output_type": "display_data"
    },
    {
     "data": {
      "text/html": [
       "<div>\n",
       "<style scoped>\n",
       "    .dataframe tbody tr th:only-of-type {\n",
       "        vertical-align: middle;\n",
       "    }\n",
       "\n",
       "    .dataframe tbody tr th {\n",
       "        vertical-align: top;\n",
       "    }\n",
       "\n",
       "    .dataframe thead th {\n",
       "        text-align: right;\n",
       "    }\n",
       "</style>\n",
       "<table border=\"1\" class=\"dataframe\">\n",
       "  <thead>\n",
       "    <tr style=\"text-align: right;\">\n",
       "      <th></th>\n",
       "      <th>Precio</th>\n",
       "      <th>Superficie</th>\n",
       "      <th>Habitaciones</th>\n",
       "      <th>Altura</th>\n",
       "      <th>Exterior</th>\n",
       "      <th>Distanciasol</th>\n",
       "      <th>cluster</th>\n",
       "    </tr>\n",
       "  </thead>\n",
       "  <tbody>\n",
       "    <tr>\n",
       "      <th>0</th>\n",
       "      <td>1950</td>\n",
       "      <td>153.0</td>\n",
       "      <td>4</td>\n",
       "      <td>2</td>\n",
       "      <td>1</td>\n",
       "      <td>3.6</td>\n",
       "      <td>2</td>\n",
       "    </tr>\n",
       "    <tr>\n",
       "      <th>1</th>\n",
       "      <td>1250</td>\n",
       "      <td>60.0</td>\n",
       "      <td>1</td>\n",
       "      <td>6</td>\n",
       "      <td>1</td>\n",
       "      <td>2.3</td>\n",
       "      <td>1</td>\n",
       "    </tr>\n",
       "    <tr>\n",
       "      <th>2</th>\n",
       "      <td>950</td>\n",
       "      <td>34.0</td>\n",
       "      <td>1</td>\n",
       "      <td>4</td>\n",
       "      <td>1</td>\n",
       "      <td>2.7</td>\n",
       "      <td>3</td>\n",
       "    </tr>\n",
       "    <tr>\n",
       "      <th>3</th>\n",
       "      <td>2350</td>\n",
       "      <td>126.0</td>\n",
       "      <td>3</td>\n",
       "      <td>5</td>\n",
       "      <td>1</td>\n",
       "      <td>2.3</td>\n",
       "      <td>2</td>\n",
       "    </tr>\n",
       "    <tr>\n",
       "      <th>4</th>\n",
       "      <td>630</td>\n",
       "      <td>26.0</td>\n",
       "      <td>1</td>\n",
       "      <td>6</td>\n",
       "      <td>1</td>\n",
       "      <td>1.9</td>\n",
       "      <td>3</td>\n",
       "    </tr>\n",
       "    <tr>\n",
       "      <th>...</th>\n",
       "      <td>...</td>\n",
       "      <td>...</td>\n",
       "      <td>...</td>\n",
       "      <td>...</td>\n",
       "      <td>...</td>\n",
       "      <td>...</td>\n",
       "      <td>...</td>\n",
       "    </tr>\n",
       "    <tr>\n",
       "      <th>155</th>\n",
       "      <td>1350</td>\n",
       "      <td>82.0</td>\n",
       "      <td>3</td>\n",
       "      <td>4</td>\n",
       "      <td>1</td>\n",
       "      <td>2.4</td>\n",
       "      <td>1</td>\n",
       "    </tr>\n",
       "    <tr>\n",
       "      <th>156</th>\n",
       "      <td>1400</td>\n",
       "      <td>75.0</td>\n",
       "      <td>2</td>\n",
       "      <td>2</td>\n",
       "      <td>0</td>\n",
       "      <td>2.2</td>\n",
       "      <td>1</td>\n",
       "    </tr>\n",
       "    <tr>\n",
       "      <th>157</th>\n",
       "      <td>1300</td>\n",
       "      <td>100.0</td>\n",
       "      <td>2</td>\n",
       "      <td>0</td>\n",
       "      <td>0</td>\n",
       "      <td>2.4</td>\n",
       "      <td>1</td>\n",
       "    </tr>\n",
       "    <tr>\n",
       "      <th>158</th>\n",
       "      <td>1200</td>\n",
       "      <td>40.0</td>\n",
       "      <td>0</td>\n",
       "      <td>2</td>\n",
       "      <td>1</td>\n",
       "      <td>1.8</td>\n",
       "      <td>3</td>\n",
       "    </tr>\n",
       "    <tr>\n",
       "      <th>159</th>\n",
       "      <td>1350</td>\n",
       "      <td>85.0</td>\n",
       "      <td>3</td>\n",
       "      <td>4</td>\n",
       "      <td>1</td>\n",
       "      <td>2.4</td>\n",
       "      <td>1</td>\n",
       "    </tr>\n",
       "  </tbody>\n",
       "</table>\n",
       "<p>154 rows × 7 columns</p>\n",
       "</div>"
      ],
      "text/plain": [
       "     Precio  Superficie  Habitaciones  Altura  Exterior  Distanciasol cluster\n",
       "0      1950       153.0             4       2         1           3.6       2\n",
       "1      1250        60.0             1       6         1           2.3       1\n",
       "2       950        34.0             1       4         1           2.7       3\n",
       "3      2350       126.0             3       5         1           2.3       2\n",
       "4       630        26.0             1       6         1           1.9       3\n",
       "..      ...         ...           ...     ...       ...           ...     ...\n",
       "155    1350        82.0             3       4         1           2.4       1\n",
       "156    1400        75.0             2       2         0           2.2       1\n",
       "157    1300       100.0             2       0         0           2.4       1\n",
       "158    1200        40.0             0       2         1           1.8       3\n",
       "159    1350        85.0             3       4         1           2.4       1\n",
       "\n",
       "[154 rows x 7 columns]"
      ]
     },
     "metadata": {},
     "output_type": "display_data"
    },
    {
     "data": {
      "image/png": "[encoded data removed]",
      "text/plain": [
       "<Figure size 432x288 with 1 Axes>"
      ]
     },
     "metadata": {
      "needs_background": "light"
     },
     "output_type": "display_data"
    }
   ],
   "source": [
    "from sklearn import cluster\n",
    "from sklearn.preprocessing import MinMaxScaler\n",
    "\n",
    "# seleccionamos las columnas para la clusterización\n",
    "#data_clust = data[['Precio','Superficie']]\n",
    "data_clust = data[['Precio','Superficie','Distanciasol']]\n",
    "\n",
    "# K-means clustering\n",
    "# parameter definition\n",
    "num_clusters = 4\n",
    "kmeans = cluster.KMeans(n_clusters=num_clusters, init='k-means++', max_iter=600)\n",
    "\n",
    "# scaling the input data\n",
    "scaler = MinMaxScaler()\n",
    "data_scaled = scaler.fit_transform(data_clust)\n",
    "\n",
    "# clustering and results\n",
    "kmeans.fit(data_scaled)\n",
    "centroids_scaled = kmeans.cluster_centers_\n",
    "centroids = scaler.inverse_transform(centroids_scaled)\n",
    "labels = kmeans.labels_\n",
    "\n",
    "# including cluster information in a dataset\n",
    "data_kmeans = data.copy()\n",
    "data_kmeans['cluster'] = labels\n",
    "data_kmeans['cluster'] = data_kmeans['cluster'].astype('category')\n",
    "display(data)\n",
    "display(data_kmeans)\n",
    "\n",
    "# matplotlib scatter plot\n",
    "plt.style.use('seaborn-dark-palette')\n",
    "plt.scatter(data_kmeans['Superficie'], data_kmeans['Precio'], c= data_kmeans['cluster'], s=50, alpha=0.5)\n",
    "plt.xlabel('Superficie')\n",
    "plt.ylabel('Precio')\n",
    "plt.title('Agrupación tipo k-means')\n",
    "\n",
    "# export results to excel\n",
    "data_kmeans.to_excel('datasetalquilereschamberi-kmeans.xlsx')"
   ]
  }
 ],
 "metadata": {
  "celltoolbar": "Slideshow",
  "kernelspec": {
   "display_name": "Python 3",
   "language": "python",
   "name": "python3"
  },
  "language_info": {
   "codemirror_mode": {
    "name": "ipython",
    "version": 3
   },
   "file_extension": ".py",
   "mimetype": "text/x-python",
   "name": "python",
   "nbconvert_exporter": "python",
   "pygments_lexer": "ipython3",
   "version": "3.8.3"
  },
  "rise": {
   "enable_chalkboard": true,
   "header": "Python y Machine Learning",
   "scroll": true
  },
  "toc": {
   "base_numbering": 1,
   "nav_menu": {},
   "number_sections": true,
   "sideBar": true,
   "skip_h1_title": false,
   "title_cell": "Table of Contents",
   "title_sidebar": "Contents",
   "toc_cell": false,
   "toc_position": {},
   "toc_section_display": true,
   "toc_window_display": false
  },
  "varInspector": {
   "cols": {
    "lenName": 16,
    "lenType": 16,
    "lenVar": 40
   },
   "kernels_config": {
    "python": {
     "delete_cmd_postfix": "",
     "delete_cmd_prefix": "del ",
     "library": "var_list.py",
     "varRefreshCmd": "print(var_dic_list())"
    },
    "r": {
     "delete_cmd_postfix": ") ",
     "delete_cmd_prefix": "rm(",
     "library": "var_list.r",
     "varRefreshCmd": "cat(var_dic_list()) "
    }
   },
   "types_to_exclude": [
    "module",
    "function",
    "builtin_function_or_method",
    "instance",
    "_Feature"
   ],
   "window_display": false
  }
 },
 "nbformat": 4,
 "nbformat_minor": 4
}
