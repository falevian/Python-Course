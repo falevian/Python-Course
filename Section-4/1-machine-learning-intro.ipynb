{
 "cells": [
  {
   "cell_type": "markdown",
   "metadata": {
    "slideshow": {
     "slide_type": "slide"
    }
   },
   "source": [
    "# Machine Learning\n",
    "\n",
    "En este apartado veremos algun ejemplo de uso de Python en Machine Learning. No profundizaremos, hay muchísimo, pero si se puede hacer alguna cosa básica con pocos comandos muy interesantes."
   ]
  },
  {
   "cell_type": "markdown",
   "metadata": {
    "slideshow": {
     "slide_type": "slide"
    }
   },
   "source": [
    "## Machine Learning Algorithms\n",
    "\n",
    "![ml-algorithms.jpg](./images/ml-algorithms.jpg)"
   ]
  },
  {
   "cell_type": "markdown",
   "metadata": {
    "slideshow": {
     "slide_type": "slide"
    }
   },
   "source": [
    "## Supervised vs Unsupervised\n",
    "\n",
    "![ml-supervised-vs-unsupervised.png](./images/ml-supervised-vs-unsupervised.png)"
   ]
  },
  {
   "cell_type": "markdown",
   "metadata": {
    "slideshow": {
     "slide_type": "slide"
    }
   },
   "source": [
    "### Supervised Learning\n",
    "-Learn the relationship between some input variables (INPUT, FEATURES, X) and outgoing ones (OUTPUT, TARGET, Y)\n",
    "\n",
    "-From some labeled examples (we know the correct input and output), the algorithm is able to predict the value of the output for new cases not used in the learning or training process.\n",
    "\n",
    "### Unsupervised Learning\n",
    "-The algorithm extracts knowledge from the input data without the necessity of telling it what to learn\n",
    "\n",
    "-Find regularities in input data by discovering patterns\n",
    "\n",
    "-There is not a target"
   ]
  },
  {
   "cell_type": "markdown",
   "metadata": {
    "slideshow": {
     "slide_type": "slide"
    }
   },
   "source": [
    "### Librería para ML en Python\n",
    "https://scikit-learn.org/stable/index.html\n",
    "![scikit-learn.png](./images/scikit-learn.png)\n"
   ]
  },
  {
   "cell_type": "markdown",
   "metadata": {
    "slideshow": {
     "slide_type": "slide"
    }
   },
   "source": [
    "## Linear Regression (Supervised)\n",
    "Recordemos que se trata de ajustar los datos a una línea de la forma $$y=mx+b$$"
   ]
  },
  {
   "cell_type": "code",
   "execution_count": null,
   "metadata": {
    "slideshow": {
     "slide_type": "subslide"
    }
   },
   "outputs": [],
   "source": [
    "# importemos el dataset y miremos los datos\n",
    "import matplotlib.pyplot as plt \n",
    "import pandas as pd\n",
    "import numpy as np  \n",
    "from sklearn.linear_model import LinearRegression\n",
    "\n",
    "data = pd.read_excel('./datasets/datasetalquilereschamberi.xlsx')\n",
    "data = data.dropna() #quitar las filas en las que no tenemos valores\n",
    "display(data.head())\n",
    "display(data.describe())"
   ]
  },
  {
   "cell_type": "code",
   "execution_count": null,
   "metadata": {
    "slideshow": {
     "slide_type": "slide"
    },
    "tags": []
   },
   "outputs": [],
   "source": [
    "# Pasamos los valores a estructuras 2D X=(n_samples, n_features), Y=(n_samples, n_targets)\n",
    "X = data[['Superficie']].values.reshape(-1, 1) \n",
    "Y = data['Precio'].values.reshape(-1, 1)  \n",
    "\n",
    "# ajustamos el modelo\n",
    "model = LinearRegression() \n",
    "model.fit(X, Y) \n",
    "Y_pred = model.predict(X)  \n",
    "\n",
    "# imprimimos los resultados del modelo\n",
    "print('Intercept: \\n', model.intercept_)\n",
    "print('Coefficients: \\n', model.coef_)\n",
    "print('R2 score: \\n', model.score(X,Y))\n",
    "print('mean absolute error: \\n',str(np.mean(abs(Y_pred - Y))))\n",
    "\n",
    "# podemos hacer predicción con sklearn\n",
    "nueva_superficie = 50\n",
    "print ('Predicted values: \\n', model.predict([[nueva_superficie]]))\n",
    "\n",
    "# Lo pintamos\n",
    "plt.scatter(X, Y, alpha=0.7)\n",
    "plt.plot(X, Y_pred, color='green')\n",
    "plt.show()"
   ]
  },
  {
   "cell_type": "markdown",
   "metadata": {
    "slideshow": {
     "slide_type": "slide"
    }
   },
   "source": [
    "### Training y Test"
   ]
  },
  {
   "cell_type": "code",
   "execution_count": null,
   "metadata": {
    "slideshow": {
     "slide_type": "subslide"
    },
    "tags": []
   },
   "outputs": [],
   "source": [
    "from sklearn.model_selection import train_test_split\n",
    "X_train, X_test, y_train, y_test = train_test_split(\n",
    "    X, Y, random_state=0)\n",
    "\n",
    "#Tenemos la entrada del entrenamient en X_train y l asalida en y_train. Y lo mismo para test\n",
    "\n",
    "print(\"X_train shape:\", X_train.shape)\n",
    "print(\"y_train shape:\", y_train.shape)"
   ]
  },
  {
   "cell_type": "code",
   "execution_count": null,
   "metadata": {
    "slideshow": {
     "slide_type": "subslide"
    },
    "tags": []
   },
   "outputs": [],
   "source": [
    "print(\"X_test shape:\", X_test.shape)\n",
    "print(\"y_test shape:\", y_test.shape)"
   ]
  },
  {
   "cell_type": "markdown",
   "metadata": {
    "slideshow": {
     "slide_type": "slide"
    }
   },
   "source": [
    "### Entrenamiento y predicción"
   ]
  },
  {
   "cell_type": "code",
   "execution_count": null,
   "metadata": {
    "slideshow": {
     "slide_type": "subslide"
    },
    "tags": []
   },
   "outputs": [],
   "source": [
    "# Entrenamiento\n",
    "model.fit(X_train, y_train) \n",
    "print('R2 score - train: \\n', model.score(X_train,y_train))\n",
    "\n",
    "# podemos hacer predicción con sklearn\n",
    "nueva_superficie = 50\n",
    "print ('Predicted values: \\n', model.predict([[nueva_superficie]]))\n"
   ]
  },
  {
   "cell_type": "markdown",
   "metadata": {
    "slideshow": {
     "slide_type": "slide"
    }
   },
   "source": [
    "### Evaluación modelo"
   ]
  },
  {
   "cell_type": "code",
   "execution_count": null,
   "metadata": {
    "slideshow": {
     "slide_type": "subslide"
    },
    "tags": []
   },
   "outputs": [],
   "source": [
    "# Hacemos una predicción de todos los valores y compramos con los reales\n",
    "y_pred = model.predict(X_test)\n",
    "\n",
    "print('mean absolute error: \\n',str(np.mean(abs(y_pred - y_test))))"
   ]
  },
  {
   "cell_type": "markdown",
   "metadata": {
    "slideshow": {
     "slide_type": "slide"
    }
   },
   "source": [
    "### Predicción con más columnas"
   ]
  },
  {
   "cell_type": "code",
   "execution_count": null,
   "metadata": {
    "slideshow": {
     "slide_type": "subslide"
    },
    "tags": []
   },
   "outputs": [],
   "source": [
    "# Pasamos los valores a estructuras 2D X=(n_samples, n_features), Y=(n_samples, n_targets)\n",
    "X = data[['Superficie','Habitaciones','Altura','Exterior','Distanciasol']]\n",
    "Y = data['Precio'].values.reshape(-1, 1)  \n",
    "\n",
    "# separamos los datos\n",
    "X_train, X_test, y_train, y_test = train_test_split(\n",
    "    X, Y, random_state=0)\n",
    "\n",
    "# ajustamos el modelo\n",
    "model = LinearRegression() \n",
    "model.fit(X_train, y_train) \n",
    "Y_pred = model.predict(X_test)  \n",
    "\n",
    "# imprimimos los resultados del modelo\n",
    "print('Intercept: \\n', model.intercept_)\n",
    "print('Coefficients: \\n', model.coef_)\n",
    "print('R2 score: \\n', model.score(X_train,y_train))\n",
    "print('mean absolute error: \\n',str(np.mean(abs(Y_pred - y_test))))\n",
    "\n",
    "# podemos hacer predicción con sklearn\n",
    "Superficie = 50\n",
    "Habitaciones = 4\n",
    "Altura = 3\n",
    "Exterior = 1\n",
    "Distanciasol = 2\n",
    "print ('Predicted values: \\n', model.predict([[Superficie,Habitaciones,Altura,Exterior,Distanciasol]]))"
   ]
  },
  {
   "cell_type": "markdown",
   "metadata": {
    "slideshow": {
     "slide_type": "slide"
    }
   },
   "source": [
    "## Multi-layer Perceptron regressor (Supervised)\n",
    "![multi_layer_perceptron.jpg](./images/multi_layer_perceptron.jpg)"
   ]
  },
  {
   "cell_type": "code",
   "execution_count": null,
   "metadata": {
    "slideshow": {
     "slide_type": "slide"
    },
    "tags": []
   },
   "outputs": [],
   "source": [
    "import sklearn as sk\n",
    "from sklearn.neural_network import MLPRegressor\n",
    "\n",
    "NN = MLPRegressor(random_state=1, max_iter=1000)\n",
    "NN.fit(X_train, y_train)\n",
    "Y_pred = NN.predict(X_test)\n",
    "\n",
    "# imprimimos los resultados del modelo\n",
    "print('R2 score: \\n', NN.score(X_train,y_train))\n",
    "print('mean absolute error: \\n',str(np.mean(abs(Y_pred - y_test))))\n",
    "\n",
    "# nunca subestimen el poder una regresión lineal, y \"fancy names\" no siempre son sinónimo de calidad..."
   ]
  },
  {
   "cell_type": "markdown",
   "metadata": {
    "slideshow": {
     "slide_type": "slide"
    }
   },
   "source": [
    "## Clustering (Unsupervised)\n",
    "Existen diferentes algoritmos de agrupación, en este ejemplo se uno de los más populares: k-means\n",
    "![kmean-clustering.png](./images/kmean-clustering.png)"
   ]
  },
  {
   "cell_type": "code",
   "execution_count": null,
   "metadata": {
    "slideshow": {
     "slide_type": "subslide"
    }
   },
   "outputs": [],
   "source": [
    "from sklearn import cluster\n",
    "from sklearn.preprocessing import MinMaxScaler\n",
    "\n",
    "# seleccionamos las columnas para la clusterización\n",
    "#data_clust = data[['Precio','Superficie']]\n",
    "data_clust = data[['Precio','Superficie','Distanciasol']]\n",
    "\n",
    "# K-means clustering\n",
    "# parameter definition\n",
    "num_clusters = 4\n",
    "kmeans = cluster.KMeans(n_clusters=num_clusters, init='k-means++', max_iter=600)\n",
    "\n",
    "# scaling the input data\n",
    "scaler = MinMaxScaler()\n",
    "data_scaled = scaler.fit_transform(data_clust)\n",
    "\n",
    "# clustering and results\n",
    "kmeans.fit(data_scaled)\n",
    "centroids_scaled = kmeans.cluster_centers_\n",
    "centroids = scaler.inverse_transform(centroids_scaled)\n",
    "labels = kmeans.labels_\n",
    "\n",
    "# including cluster information in a dataset\n",
    "data_kmeans = data.copy()\n",
    "data_kmeans['cluster'] = labels\n",
    "data_kmeans['cluster'] = data_kmeans['cluster'].astype('category')\n",
    "display(data)\n",
    "display(data_kmeans)\n",
    "\n",
    "# matplotlib scatter plot\n",
    "plt.style.use('seaborn-dark-palette')\n",
    "plt.scatter(data_kmeans['Superficie'], data_kmeans['Precio'], c= data_kmeans['cluster'], s=50, alpha=0.5)\n",
    "plt.xlabel('Superficie')\n",
    "plt.ylabel('Precio')\n",
    "plt.title('Agrupación tipo k-means')\n",
    "\n",
    "# export results to excel\n",
    "data_kmeans.to_excel('datasetalquilereschamberi-kmeans.xlsx')"
   ]
  }
 ],
 "metadata": {
  "celltoolbar": "Slideshow",
  "kernelspec": {
   "display_name": "Python 3",
   "language": "python",
   "name": "python3"
  },
  "language_info": {
   "codemirror_mode": {
    "name": "ipython",
    "version": 3
   },
   "file_extension": ".py",
   "mimetype": "text/x-python",
   "name": "python",
   "nbconvert_exporter": "python",
   "pygments_lexer": "ipython3",
   "version": "3.7.3-final"
  },
  "rise": {
   "enable_chalkboard": true
  },
  "varInspector": {
   "cols": {
    "lenName": 16,
    "lenType": 16,
    "lenVar": 40
   },
   "kernels_config": {
    "python": {
     "delete_cmd_postfix": "",
     "delete_cmd_prefix": "del ",
     "library": "var_list.py",
     "varRefreshCmd": "print(var_dic_list())"
    },
    "r": {
     "delete_cmd_postfix": ") ",
     "delete_cmd_prefix": "rm(",
     "library": "var_list.r",
     "varRefreshCmd": "cat(var_dic_list()) "
    }
   },
   "types_to_exclude": [
    "module",
    "function",
    "builtin_function_or_method",
    "instance",
    "_Feature"
   ],
   "window_display": false
  }
 },
 "nbformat": 4,
 "nbformat_minor": 4
}