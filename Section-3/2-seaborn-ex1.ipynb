{
 "cells": [
  {
   "cell_type": "markdown",
   "metadata": {
    "slideshow": {
     "slide_type": "slide"
    }
   },
   "source": [
    "## Introducción a Seaborn \n",
    "Estas librerías gráficas se apoyan en Matplotlib y proporcionan un marco muy potente para representar datasets, por lo que conviene saber usarlas."
   ]
  },
  {
   "cell_type": "code",
   "execution_count": null,
   "metadata": {
    "slideshow": {
     "slide_type": "subslide"
    }
   },
   "outputs": [],
   "source": [
    "# Cargamos las librería necesarias\n",
    "import pandas as pd\n",
    "import seaborn as sns #Esta librería permite representar las gráficas de manera muy elegante. \n",
    "import matplotlib.pyplot as plt"
   ]
  },
  {
   "cell_type": "code",
   "execution_count": null,
   "metadata": {
    "slideshow": {
     "slide_type": "subslide"
    },
    "tags": []
   },
   "outputs": [],
   "source": [
    "# Lo siento Iris y Titanic :-D\n",
    "iris = sns.load_dataset(\"iris\")\n",
    "print(iris.head())\n",
    "titanic = sns.load_dataset(\"titanic\")\n",
    "print(titanic.head())"
   ]
  },
  {
   "cell_type": "code",
   "execution_count": null,
   "metadata": {
    "slideshow": {
     "slide_type": "subslide"
    }
   },
   "outputs": [],
   "source": [
    "# definir el estilo: whitegrid, darkgrid, white, dark, ticks\n",
    "sns.set_style(\"whitegrid\") \n",
    "\n",
    "#Esto genera subplots para poder representar relaciones condicionales \n",
    "g = sns.FacetGrid(titanic, col=\"class\", row=\"survived\")\n",
    "# En esos suplots representamos histograma de la edad\n",
    "g = g.map(plt.hist,\"age\")\n",
    "\n",
    "# Variables categóricas -------------------\n",
    "sns.catplot(x=\"pclass\",  y=\"survived\", hue=\"sex\", data=titanic)"
   ]
  },
  {
   "cell_type": "code",
   "execution_count": null,
   "metadata": {
    "slideshow": {
     "slide_type": "subslide"
    }
   },
   "outputs": [],
   "source": [
    "titanic = sns.load_dataset(\"titanic\")\n",
    "g = sns.catplot(\"alive\", col=\"deck\", col_wrap=4,\n",
    "                data=titanic[titanic.deck.notnull()],\n",
    "                kind=\"count\", height=2.5, aspect=.8)\n"
   ]
  },
  {
   "cell_type": "code",
   "execution_count": null,
   "metadata": {
    "slideshow": {
     "slide_type": "subslide"
    }
   },
   "outputs": [],
   "source": [
    "g = sns.catplot(x=\"age\", y=\"embark_town\",\n",
    "                hue=\"sex\", row=\"class\",\n",
    "                data=titanic[titanic.embark_town.notnull()],\n",
    "                orient=\"h\", height=4, aspect=3, palette=\"BuPu\", \n",
    "                kind=\"violin\", dodge=True, cut=0, bw=.2)"
   ]
  },
  {
   "cell_type": "code",
   "execution_count": null,
   "metadata": {
    "slideshow": {
     "slide_type": "subslide"
    }
   },
   "outputs": [],
   "source": [
    "g = sns.catplot(x=\"who\", y=\"survived\", col=\"class\",\n",
    "                data=titanic, saturation=.5,\n",
    "                kind=\"bar\", ci=None, aspect=.6)"
   ]
  },
  {
   "cell_type": "markdown",
   "metadata": {
    "slideshow": {
     "slide_type": "slide"
    }
   },
   "source": [
    "## Variables categóricas"
   ]
  },
  {
   "cell_type": "code",
   "execution_count": null,
   "metadata": {
    "slideshow": {
     "slide_type": "subslide"
    }
   },
   "outputs": [],
   "source": [
    "# Scatterplot con variable categórica\n",
    "fig1, ax1 = plt.subplots(figsize=(10,8))     \n",
    "sns.stripplot(x=\"species\",  y=\"petal_length\",  data=iris)\n",
    " \n",
    "fig2, ax2 = plt.subplots(figsize=(10,8))     \n",
    "sns.swarmplot(x=\"species\", y=\"petal_length\",  data=iris)"
   ]
  },
  {
   "cell_type": "code",
   "execution_count": null,
   "metadata": {
    "slideshow": {
     "slide_type": "subslide"
    }
   },
   "outputs": [],
   "source": [
    "# Estimación e intervalos de confianza con scatter\n",
    "fig3, ax3 = plt.subplots(figsize=(10,8))     \n",
    "sns.barplot(x=\"sex\", y=\"survived\",  hue=\"class\",  data=titanic)"
   ]
  },
  {
   "cell_type": "code",
   "execution_count": null,
   "metadata": {
    "slideshow": {
     "slide_type": "subslide"
    }
   },
   "outputs": [],
   "source": [
    "# Número de observaciones\n",
    "fig4, ax4 = plt.subplots(figsize=(10,8))     \n",
    "sns.countplot(x=\"deck\",  data=titanic, palette=\"Greens\")\n"
   ]
  },
  {
   "cell_type": "code",
   "execution_count": null,
   "metadata": {
    "slideshow": {
     "slide_type": "subslide"
    }
   },
   "outputs": [],
   "source": [
    "# Estimación e intervalos de confianza como baras rectangulares\n",
    "fig5, ax5 = plt.subplots(figsize=(10,8))     \n",
    "sns.pointplot(x=\"class\",  y=\"survived\",  hue=\"sex\",  data=titanic,  markers=[\"^\",\"o\"],linestyles=[\"-\",\"--\"])\n",
    "\n"
   ]
  },
  {
   "cell_type": "code",
   "execution_count": null,
   "metadata": {
    "slideshow": {
     "slide_type": "subslide"
    }
   },
   "outputs": [],
   "source": [
    "# Boxplot\n",
    "fig6, ax6 = plt.subplots(figsize=(10,8))     \n",
    "sns.boxplot(x=\"alive\",  y=\"age\", hue=\"adult_male\", data=titanic)\n",
    "\n",
    "fig7, ax7 = plt.subplots(figsize=(10,8))     \n",
    "sns.boxplot(data=iris,orient=\"h\")  \n",
    "\n"
   ]
  },
  {
   "cell_type": "code",
   "execution_count": null,
   "metadata": {
    "slideshow": {
     "slide_type": "subslide"
    }
   },
   "outputs": [],
   "source": [
    "# Violin\n",
    "fig8, ax8 = plt.subplots(figsize=(10,8))     \n",
    "sns.violinplot(x=\"age\",  y=\"sex\", hue=\"class\", data=titanic)"
   ]
  },
  {
   "cell_type": "markdown",
   "metadata": {
    "slideshow": {
     "slide_type": "slide"
    }
   },
   "source": [
    "## Regresiones"
   ]
  },
  {
   "cell_type": "code",
   "execution_count": null,
   "metadata": {
    "slideshow": {
     "slide_type": "subslide"
    }
   },
   "outputs": [],
   "source": [
    "fig9, ax9 = plt.subplots(figsize=(10,8))    \n",
    "sns.regplot(x=\"sepal_width\",  y=\"sepal_length\",  data=iris)\n",
    "plt.show(fig9)\n",
    "sns.lmplot(x=\"sepal_width\", y=\"sepal_length\",   data=iris)\n",
    "plt.show()"
   ]
  },
  {
   "cell_type": "markdown",
   "metadata": {
    "slideshow": {
     "slide_type": "slide"
    }
   },
   "source": [
    "## Salvar o visualizar plots"
   ]
  },
  {
   "cell_type": "code",
   "execution_count": null,
   "metadata": {
    "slideshow": {
     "slide_type": "subslide"
    }
   },
   "outputs": [],
   "source": [
    "sns.boxplot(data=iris,orient=\"h\")  \n",
    "#plt.savefig(\"foo.png\") \n",
    "plt.savefig(\"foo.png\",  transparent=True)\n",
    "plt.show() "
   ]
  },
  {
   "cell_type": "markdown",
   "metadata": {
    "slideshow": {
     "slide_type": "slide"
    }
   },
   "source": [
    "## Más elementos para EDA"
   ]
  },
  {
   "cell_type": "code",
   "execution_count": null,
   "metadata": {
    "slideshow": {
     "slide_type": "subslide"
    }
   },
   "outputs": [],
   "source": [
    "# Correlaciones\n",
    "corr = iris.corr()\n",
    "sns.heatmap(corr, \n",
    "            xticklabels=corr.columns.values,\n",
    "            yticklabels=corr.columns.values)\n",
    "\n",
    "#Más interesante y bonito\n",
    "sns.pairplot(iris)\n",
    "\n",
    "# Con regresión\n",
    "sns.pairplot(iris, kind=\"reg\")\n",
    "\n",
    "# Con regresión y separado por especie \n",
    "sns.pairplot(iris, kind=\"reg\",hue=\"species\")"
   ]
  },
  {
   "cell_type": "markdown",
   "metadata": {
    "slideshow": {
     "slide_type": "slide"
    }
   },
   "source": [
    "## Dónde encontrar más\n",
    "\n",
    "https://python-graph-gallery.com/\n",
    "\n",
    "![image.png](./images/data-viz-gallery.png)"
   ]
  }
 ],
 "metadata": {
  "celltoolbar": "Slideshow",
  "kernelspec": {
   "display_name": "Python 3",
   "language": "python",
   "name": "python3"
  },
  "language_info": {
   "codemirror_mode": {
    "name": "ipython",
    "version": 3
   },
   "file_extension": ".py",
   "mimetype": "text/x-python",
   "name": "python",
   "nbconvert_exporter": "python",
   "pygments_lexer": "ipython3",
   "version": "3.7.3-final"
  },
  "rise": {
   "enable_chalkboard": true
  },
  "varInspector": {
   "cols": {
    "lenName": 16,
    "lenType": 16,
    "lenVar": 40
   },
   "kernels_config": {
    "python": {
     "delete_cmd_postfix": "",
     "delete_cmd_prefix": "del ",
     "library": "var_list.py",
     "varRefreshCmd": "print(var_dic_list())"
    },
    "r": {
     "delete_cmd_postfix": ") ",
     "delete_cmd_prefix": "rm(",
     "library": "var_list.r",
     "varRefreshCmd": "cat(var_dic_list()) "
    }
   },
   "types_to_exclude": [
    "module",
    "function",
    "builtin_function_or_method",
    "instance",
    "_Feature"
   ],
   "window_display": false
  }
 },
 "nbformat": 4,
 "nbformat_minor": 4
}