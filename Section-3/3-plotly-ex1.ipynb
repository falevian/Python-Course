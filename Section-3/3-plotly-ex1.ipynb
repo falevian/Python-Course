{
 "cells": [
  {
   "cell_type": "markdown",
   "metadata": {
    "slideshow": {
     "slide_type": "slide"
    }
   },
   "source": [
    "#  Plotly\n",
    "Una librería para gráficas interactivas...\n",
    "\n",
    "Veamos esto con ejemplos:"
   ]
  },
  {
   "cell_type": "code",
   "execution_count": null,
   "metadata": {},
   "outputs": [],
   "source": [
    "# lo instalamos en caso de no tenerlo\n",
    "!pip install plotly-express"
   ]
  },
  {
   "cell_type": "code",
   "execution_count": null,
   "metadata": {
    "slideshow": {
     "slide_type": "slide"
    }
   },
   "outputs": [],
   "source": [
    "import pandas as pd\n",
    "import plotly.express as px"
   ]
  },
  {
   "cell_type": "code",
   "execution_count": null,
   "metadata": {
    "slideshow": {
     "slide_type": "slide"
    }
   },
   "outputs": [],
   "source": [
    "# lectura de datos\n",
    "df = pd.read_csv('./datasets/Dataset Macro.csv', sep=';')  # The default separator is \",\"\n",
    "# ver las 10 primeras líneas\n",
    "df.tail(10) # para ver las 10 últimas líneas df.tail(10) "
   ]
  },
  {
   "cell_type": "code",
   "execution_count": null,
   "metadata": {
    "slideshow": {
     "slide_type": "slide"
    }
   },
   "outputs": [],
   "source": [
    "# usemos las gráficas por defecto de pandas (es decir, Matplotlib)\n",
    "df.plot.scatter(x='year',y='GDP Growth',c='Unemployment Rate',colormap='viridis')"
   ]
  },
  {
   "cell_type": "code",
   "execution_count": null,
   "metadata": {},
   "outputs": [],
   "source": [
    "# Ahora hagamos lo mismo con plotly\n",
    "fig = px.scatter(df, x=\"year\", y=\"GDP Growth\", color=\"Unemployment Rate\")\n",
    "fig.show()"
   ]
  },
  {
   "cell_type": "code",
   "execution_count": null,
   "metadata": {
    "slideshow": {
     "slide_type": "slide"
    }
   },
   "outputs": [],
   "source": [
    "# más cosas\n",
    "# tip: la siguiente opción de pandas se usa para quitar los NAN: df = df.dropna()\n",
    "fig = px.scatter(df.query(\"year<=2012\"), x=\"year\", y=\"GDP Growth\", size=\"Unemployment Rate\",color=\"country\")\n",
    "fig.show()"
   ]
  },
  {
   "cell_type": "code",
   "execution_count": null,
   "metadata": {
    "slideshow": {
     "slide_type": "slide"
    }
   },
   "outputs": [],
   "source": [
    "# más chuladas...\n",
    "fig = px.scatter(df.query(\"year<=2012\"), x=\"GDP Growth\", y=\"Unemployment Rate\", color=\"country\",\n",
    "                 animation_frame=\"year\", facet_col=\"quarter\", range_x=[-10,10], range_y=[0,30])\n",
    "fig.show()\n",
    "fig.write_html(\"figure.html\")"
   ]
  },
  {
   "cell_type": "code",
   "execution_count": null,
   "metadata": {
    "slideshow": {
     "slide_type": "slide"
    }
   },
   "outputs": [],
   "source": [
    "# graficar mapas en simple...claro con el dato de lat y long :P\n",
    "df2 = px.data.carshare() # dataframe ejemplo de plotly\n",
    "fig = px.scatter_mapbox(df2, lat=\"centroid_lat\", lon=\"centroid_lon\", color=\"peak_hour\", size=\"car_hours\",\n",
    "                  color_continuous_scale=px.colors.cyclical.IceFire, size_max=15, zoom=10,\n",
    "                  mapbox_style=\"carto-positron\")\n",
    "# otros estilos: \"carto-positron\", \"carto-darkmatter\",\n",
    "#                \"stamen-terrain\", \"stamen-toner\" or \"stamen-watercolor\" \n",
    "fig.show()\n",
    "df2.head()"
   ]
  }
 ],
 "metadata": {
  "celltoolbar": "Slideshow",
  "kernelspec": {
   "display_name": "Python 3",
   "language": "python",
   "name": "python3"
  },
  "language_info": {
   "codemirror_mode": {
    "name": "ipython",
    "version": 3
   },
   "file_extension": ".py",
   "mimetype": "text/x-python",
   "name": "python",
   "nbconvert_exporter": "python",
   "pygments_lexer": "ipython3",
   "version": "3.7.3"
  },
  "rise": {
   "enable_chalkboard": true
  },
  "varInspector": {
   "cols": {
    "lenName": 16,
    "lenType": 16,
    "lenVar": 40
   },
   "kernels_config": {
    "python": {
     "delete_cmd_postfix": "",
     "delete_cmd_prefix": "del ",
     "library": "var_list.py",
     "varRefreshCmd": "print(var_dic_list())"
    },
    "r": {
     "delete_cmd_postfix": ") ",
     "delete_cmd_prefix": "rm(",
     "library": "var_list.r",
     "varRefreshCmd": "cat(var_dic_list()) "
    }
   },
   "types_to_exclude": [
    "module",
    "function",
    "builtin_function_or_method",
    "instance",
    "_Feature"
   ],
   "window_display": false
  }
 },
 "nbformat": 4,
 "nbformat_minor": 4
}
