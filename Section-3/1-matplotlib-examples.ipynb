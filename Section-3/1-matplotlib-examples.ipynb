{
 "cells": [
  {
   "cell_type": "markdown",
   "metadata": {
    "slideshow": {
     "slide_type": "slide"
    }
   },
   "source": [
    "## Matplotlib\n",
    "Librería básica para representar gráficas. "
   ]
  },
  {
   "cell_type": "code",
   "execution_count": null,
   "metadata": {
    "slideshow": {
     "slide_type": "fragment"
    }
   },
   "outputs": [],
   "source": [
    "import matplotlib.pyplot as plt\n",
    "import numpy as np\n",
    "# Generamos una lista de 100 números del  -15 a 15. Aquí no tienen porqué ser enteros.\n",
    "x = np.linspace(-15, 15, 100)\n",
    "# Ahora otra lista con el seno de la lista anterior\n",
    "y = np.sin(x)\n",
    "# Y lo pintamos\n",
    "plt.plot(x, y, marker=\"o\")"
   ]
  },
  {
   "cell_type": "code",
   "execution_count": null,
   "metadata": {
    "slideshow": {
     "slide_type": "subslide"
    }
   },
   "outputs": [],
   "source": [
    "plt.plot(x, y, marker=\"x\")\n",
    "plt.ylabel('y')            # Etiqueta del eje y. Podriamos no ponerla\n",
    "plt.xlabel('x')            # Etiqueta del eje x\n",
    "plt.title('Seno')\n",
    "plt.show()                 # Esta función ordena mostrar la imagen en una ventanita nueva"
   ]
  },
  {
   "cell_type": "markdown",
   "metadata": {
    "slideshow": {
     "slide_type": "slide"
    }
   },
   "source": [
    "### Matplotlib paso a paso\n",
    "Ya hemos visto que con plot directamente se representa la gráfica. Vamos a ver ahora la estructura completa de una gráfica en matplotlib y todas las posibilidades\n"
   ]
  },
  {
   "cell_type": "code",
   "execution_count": null,
   "metadata": {
    "scrolled": true,
    "slideshow": {
     "slide_type": "subslide"
    }
   },
   "outputs": [],
   "source": [
    "fig=plt.figure() #Crea la gráfica\n",
    "\n",
    "ax1=fig.add_subplot(211) #(Filas Columnas y número de la gráfica)\n",
    "ax2=fig.add_subplot(212)\n",
    "ax1.plot(x, y, marker=\"o\")\n",
    "ax2.plot(x, y, marker=\"x\")\n",
    "\n",
    "fig2=plt.figure() #Crea la gráfica\n",
    "ax3=fig2.add_subplot(121) #(Filas Columnas y número de la gráfica)\n",
    "ax4=fig2.add_subplot(122)\n",
    "ax3.plot(x, y,color='red' , marker=\"o\")\n",
    "ax4.plot(x, y, color='red',marker=\"x\")\n",
    "\n",
    "ax4.set_xlim(0,10)\n",
    "plt.savefig('Figura_1.png')\n"
   ]
  },
  {
   "cell_type": "markdown",
   "metadata": {
    "slideshow": {
     "slide_type": "slide"
    }
   },
   "source": [
    "### Estilos en Matplotlib"
   ]
  },
  {
   "cell_type": "code",
   "execution_count": null,
   "metadata": {
    "slideshow": {
     "slide_type": "skip"
    }
   },
   "outputs": [],
   "source": [
    "# Datos....\n",
    "ages_x = [18, 19, 20, 21, 22, 23, 24, 25, 26, 27, 28, 29, 30, 31, 32, 33, 34, 35,\n",
    "          36, 37, 38, 39, 40, 41, 42, 43, 44, 45, 46, 47, 48, 49, 50, 51, 52, 53, 54, 55]\n",
    "\n",
    "py_dev_y = [20046, 17100, 20000, 24744, 30500, 37732, 41247, 45372, 48876, 53850, 57287, 63016, 65998, 70003, 70000, 71496, 75370, 83640, 84666,\n",
    "            84392, 78254, 85000, 87038, 91991, 100000, 94796, 97962, 93302, 99240, 102736, 112285, 100771, 104708, 108423, 101407, 112542, 122870, 120000]\n",
    "\n",
    "js_dev_y = [16446, 16791, 18942, 21780, 25704, 29000, 34372, 37810, 43515, 46823, 49293, 53437, 56373, 62375, 66674, 68745, 68746, 74583, 79000,\n",
    "            78508, 79996, 80403, 83820, 88833, 91660, 87892, 96243, 90000, 99313, 91660, 102264, 100000, 100000, 91660, 99240, 108000, 105000, 104000]\n",
    "\n",
    "dev_y = [17784, 16500, 18012, 20628, 25206, 30252, 34368, 38496, 42000, 46752, 49320, 53200, 56000, 62316, 64928, 67317, 68748, 73752, 77232,\n",
    "         78000, 78508, 79536, 82488, 88935, 90000, 90056, 95000, 90000, 91633, 91660, 98150, 98964, 100000, 98988, 100000, 108923, 105000, 103117]\n",
    "\n",
    "\n"
   ]
  },
  {
   "cell_type": "code",
   "execution_count": null,
   "metadata": {
    "slideshow": {
     "slide_type": "subslide"
    }
   },
   "outputs": [],
   "source": [
    "# Cómo ver qué estilos están disponibles\n",
    "print(plt.style.available)\n",
    "\n",
    "#Elegimos un estilo:\n",
    "plt.style.use('seaborn-talk')\n",
    "\n",
    "#plt.style.use('fivethirtyeight')\n",
    "#plt.xkcd()\n",
    " \n",
    "\n",
    "plt.plot(ages_x, py_dev_y, label='Python')\n",
    "\n",
    "plt.plot(ages_x, js_dev_y, label ='JavaScript')\n",
    "\n",
    "plt.plot(ages_x, dev_y, color='#444444', linestyle='--', label='Todos los programadores')\n",
    "\n",
    "# Y todo esto es común\n",
    "plt.xlabel('Edades')\n",
    "plt.ylabel('Salario medio (USD)')\n",
    "plt.title('Salario medio por edad')\n",
    "\n",
    "plt.legend()\n",
    "\n",
    "plt.tight_layout()\n",
    "\n",
    "plt.show()"
   ]
  },
  {
   "cell_type": "code",
   "execution_count": null,
   "metadata": {
    "slideshow": {
     "slide_type": "subslide"
    }
   },
   "outputs": [],
   "source": [
    "plt.style.use('fivethirtyeight')\n",
    "plt.plot(ages_x, py_dev_y, label='Python')\n",
    "\n",
    "plt.plot(ages_x, js_dev_y, label='JavaScript')\n",
    "\n",
    "plt.plot(ages_x, dev_y, color='#444444', linestyle='--', label='Todos los programadores')\n",
    "\n",
    "# Y todo esto es común\n",
    "plt.xlabel('Edades')\n",
    "plt.ylabel('Salario medio (USD)')\n",
    "plt.title('Salario medio por edad')\n",
    "\n",
    "plt.legend()\n",
    "\n",
    "plt.tight_layout()\n",
    "\n",
    "plt.show()"
   ]
  }
 ],
 "metadata": {
  "celltoolbar": "Slideshow",
  "kernelspec": {
   "display_name": "Python 3",
   "language": "python",
   "name": "python3"
  },
  "language_info": {
   "codemirror_mode": {
    "name": "ipython",
    "version": 3
   },
   "file_extension": ".py",
   "mimetype": "text/x-python",
   "name": "python",
   "nbconvert_exporter": "python",
   "pygments_lexer": "ipython3",
   "version": "3.7.3"
  },
  "rise": {
   "enable_chalkboard": true
  },
  "varInspector": {
   "cols": {
    "lenName": 16,
    "lenType": 16,
    "lenVar": 40
   },
   "kernels_config": {
    "python": {
     "delete_cmd_postfix": "",
     "delete_cmd_prefix": "del ",
     "library": "var_list.py",
     "varRefreshCmd": "print(var_dic_list())"
    },
    "r": {
     "delete_cmd_postfix": ") ",
     "delete_cmd_prefix": "rm(",
     "library": "var_list.r",
     "varRefreshCmd": "cat(var_dic_list()) "
    }
   },
   "types_to_exclude": [
    "module",
    "function",
    "builtin_function_or_method",
    "instance",
    "_Feature"
   ],
   "window_display": false
  }
 },
 "nbformat": 4,
 "nbformat_minor": 4
}
