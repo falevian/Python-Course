{
 "cells": [
  {
   "cell_type": "markdown",
   "metadata": {
    "slideshow": {
     "slide_type": "slide"
    }
   },
   "source": [
    "# Introducción a Python\n",
    "\n",
    "Autor: Rafael Vida Delgado\n",
    "Fecha: Mayo 2020\n",
    "Descripción: Introducción a Python para Machine Learning\n"
   ]
  },
  {
   "cell_type": "markdown",
   "metadata": {
    "slideshow": {
     "slide_type": "subslide"
    }
   },
   "source": [
    "## Descripción del curso \n",
    "\n",
    "La propuesta es ver Python, en concreto caracterísicas básicas del lenguaje de programación. No queremos que seais programadores en éste lenguaje, pretendemos que podáis reproducir lo que habéis aprendido en R, tengáis una idea de ambos lenguajes y sobre todo que os deis cuenta que lo importante en entendér QUÉ se quiere hacer, más quue el CÓMO.\n",
    "Aprenderemos a: \n",
    "<ol>\n",
    "<li>usar comandos básicos de Python,</li>\n",
    "<li>usar las librerías más relevantes: Numpy, Pandas, Matplotlib y Scikit-Learn</li>\n",
    "<li>cargar ficheros de datos y atratar con esos datos, </li>\n",
    "<li>hacer un **EDA (Exploratory Data Analysis) básico,</li>\n",
    "<li>crear un par de modelos predictivos sencillos.</li>\n",
    "</ol>\n",
    "\n",
    "Os proporcionamos soporte documental para todo eso, así podreis revisitarlo cuando os haga falta. Y os pasaremos enlances a sitios con buenos ejemplos."
   ]
  },
  {
   "cell_type": "markdown",
   "metadata": {
    "slideshow": {
     "slide_type": "slide"
    }
   },
   "source": [
    "## Funciones básicas"
   ]
  },
  {
   "cell_type": "code",
   "execution_count": 2,
   "metadata": {
    "slideshow": {
     "slide_type": "subslide"
    }
   },
   "outputs": [
    {
     "name": "stdout",
     "output_type": "stream",
     "text": [
      "Hola, estoy harto de Covid-19, Hola. kkk\n"
     ]
    }
   ],
   "source": [
    "print(\"Hola, estoy harto de Covid-19, Hola. kkk\")"
   ]
  },
  {
   "cell_type": "markdown",
   "metadata": {
    "slideshow": {
     "slide_type": "slide"
    }
   },
   "source": [
    "## Tipos de variables y cómo asignarlas"
   ]
  },
  {
   "cell_type": "markdown",
   "metadata": {
    "slideshow": {
     "slide_type": "subslide"
    }
   },
   "source": [
    "### Numéricas"
   ]
  },
  {
   "cell_type": "code",
   "execution_count": 3,
   "metadata": {
    "slideshow": {
     "slide_type": "subslide"
    }
   },
   "outputs": [
    {
     "name": "stdout",
     "output_type": "stream",
     "text": [
      "El valor de a es  35\n",
      "El valor de b es  23\n",
      "a+b= 58\n",
      "a+b= 58\n",
      "a*b= 805\n"
     ]
    },
    {
     "data": {
      "text/plain": [
       "30"
      ]
     },
     "execution_count": 3,
     "metadata": {},
     "output_type": "execute_result"
    }
   ],
   "source": [
    "# Variables numéricas enteras (tipo int)\n",
    "\n",
    "a = 35                   # Asigna el valor 30 a la variable a. Aquí no hay ->\n",
    "b = 23                \n",
    "Resultado = a + b           # Asigna el resultado de la suma de a y b a Resultado\n",
    "print(\"El valor de a es \",a)\n",
    "print(\"El valor de b es \",b)\n",
    "print(\"a+b=\",Resultado)\n",
    "print(\"a+b=\",a+b)        #También podemos hacerlo directamente\n",
    "\n",
    "print(\"a*b=\",a*b)        #Y el resto de operaciones ariméticas\n",
    "3+4\n",
    "5*6"
   ]
  },
  {
   "cell_type": "code",
   "execution_count": 8,
   "metadata": {
    "slideshow": {
     "slide_type": "subslide"
    }
   },
   "outputs": [
    {
     "name": "stdout",
     "output_type": "stream",
     "text": [
      "El área del triángulo es 270.7305\n",
      "Hola,  estoy harto de Covid-19r\n",
      "La variable a es  True\n",
      "True\n",
      "False\n"
     ]
    }
   ],
   "source": [
    "# Variables con valores reales.(float)\n",
    "base = 30.3\n",
    "altura = 17.87\n",
    "\n",
    "area=base*altura/2\n",
    "print(\"El área del triángulo es\",area)\n",
    "\n",
    "# Variable tipo char (caracteres) o string (cadena de caracteres)\n",
    "hecho = \"estoy harto de Covid-19r\"\n",
    "print(\"Hola, \",hecho)\n",
    "\n",
    "#Variables booleanas: True/False\n",
    "a=True\n",
    "print(\"La variable a es \",a)\n",
    "\n",
    "a = 12\n",
    "b = 4\n",
    "print(a > b)\n",
    "print(a<b)"
   ]
  },
  {
   "cell_type": "markdown",
   "metadata": {
    "slideshow": {
     "slide_type": "slide"
    }
   },
   "source": [
    "## Listas"
   ]
  },
  {
   "cell_type": "code",
   "execution_count": 15,
   "metadata": {
    "cell_style": "center",
    "slideshow": {
     "slide_type": "subslide"
    }
   },
   "outputs": [
    {
     "name": "stdout",
     "output_type": "stream",
     "text": [
      "['hola', '3', 'verde']\n",
      "longitud 3\n",
      "Indica un valor: 23\n",
      "Ahora la longitud de la lista es 4\n",
      "['hola', '3', 'verde', '23']\n"
     ]
    }
   ],
   "source": [
    "# Corchetes\n",
    "\n",
    "lista_1 = [\"hola\",\"3\",\"verde\"]\n",
    "\n",
    "print(lista_1)\n",
    "\n",
    "print(\"longitud\",len(lista_1))\n",
    "\n",
    "# Se accede a cada elemento por la posición. 0 es la primera. La última se denota por -1\n",
    "lista_1[0]\n",
    "lista_1[-1]\n",
    "\n",
    "# Empezamos con la programación orientada a objeto. Usaremos métodos de las clases.\n",
    "elemento = input(\"Indica un valor: \")\n",
    "lista_1.append(elemento)\n",
    "print(\"Ahora la longitud de la lista es\",len(lista_1))\n",
    "\n",
    "print(lista_1)\n",
    "\n"
   ]
  },
  {
   "cell_type": "code",
   "execution_count": 16,
   "metadata": {
    "cell_style": "center",
    "slideshow": {
     "slide_type": "subslide"
    }
   },
   "outputs": [
    {
     "name": "stdout",
     "output_type": "stream",
     "text": [
      "[12, 3, 10, 6, 9]\n",
      "La suma es 40\n",
      "verde\n",
      "3\n",
      "['hola', '3', 'verde', '23', [12, 3, 10, 6, 9]]\n"
     ]
    }
   ],
   "source": [
    "# Las listas pueden ser de cualquier tipo de variable\n",
    "# También podemos tener listas de números\n",
    "lista_2 = [12, 3, 10, 6, 9]\n",
    "\n",
    "suma = sum(lista_2)\n",
    "\n",
    "print(lista_2)\n",
    "print(\"La suma es\",suma)\n",
    "# Y otras posibles funciones\n",
    "print(max(lista_1))\n",
    "print(min(lista_2))\n",
    "\n",
    "#Podemos hacer listas de listas:\n",
    "lista_1.append(lista_2)\n",
    "print(lista_1)\n"
   ]
  },
  {
   "cell_type": "markdown",
   "metadata": {
    "slideshow": {
     "slide_type": "slide"
    }
   },
   "source": [
    "## Decisión: If"
   ]
  },
  {
   "cell_type": "code",
   "execution_count": 17,
   "metadata": {
    "slideshow": {
     "slide_type": "subslide"
    }
   },
   "outputs": [
    {
     "name": "stdout",
     "output_type": "stream",
     "text": [
      "Es cierto\n",
      "Valores de las variables:  9.2 , 123\n",
      "Las variables x e y no son iguales\n",
      "Las variables no son iguales\n"
     ]
    }
   ],
   "source": [
    "#if básico\n",
    "if (7 > 3):\n",
    "    print(\"Es cierto\")\n",
    "\n",
    "y = 123\n",
    "x = 9.2\n",
    "\n",
    "print(\"Valores de las variables: \",x,\",\",y)\n",
    "\n",
    "#If con else\n",
    "if (x == y):\n",
    "    print(\"Las variables son iguales\")\n",
    "else:\n",
    "    print(\"Las variables x e y no son iguales\")\n",
    "    \n",
    "#Ifs anidados:\n",
    "if (x != y):\n",
    "    print(\"Las variables no son iguales\")\n",
    "elif (x>y):\n",
    "    print(\"La variables x es mayor que y\")\n",
    "else:\n",
    "    print(\"Otros casos\")"
   ]
  },
  {
   "cell_type": "markdown",
   "metadata": {
    "slideshow": {
     "slide_type": "slide"
    }
   },
   "source": [
    "## Bucles"
   ]
  },
  {
   "cell_type": "code",
   "execution_count": 18,
   "metadata": {
    "slideshow": {
     "slide_type": "subslide"
    }
   },
   "outputs": [
    {
     "name": "stdout",
     "output_type": "stream",
     "text": [
      "1\n",
      "2\n",
      "3\n",
      "4\n",
      "5\n",
      "6\n",
      "9\n",
      "8\n",
      "5\n",
      "Queremos repetir un bucle 7 veces\n",
      "0 --> 2\n",
      "1 --> 4\n",
      "2 --> 6\n",
      "3 --> 8\n",
      "4 --> 10\n",
      "5 --> 12\n",
      "6 --> 14\n",
      "117\n"
     ]
    }
   ],
   "source": [
    "# While\n",
    "\n",
    "a = 1\n",
    "\n",
    "while (a < 7):\n",
    "    print(a)\n",
    "    a = a + 1\n",
    "    \n",
    "# Bucles for, muy interesantes en Python\n",
    "\n",
    "for i in [9,8,5]:\n",
    "    print(i)\n",
    "\n",
    "print(\"Queremos repetir un bucle 7 veces\")\n",
    "a = 0\n",
    "for i in range(7):\n",
    "    a = a + 2\n",
    "    print(i,\"-->\",a)\n",
    "    \n",
    "suma = 0\n",
    "for i in range(3,16):    # del 3 al 15 de uno en uno, el último valor nunca se alcanza\n",
    "    suma = suma + i\n",
    "print(suma)"
   ]
  },
  {
   "cell_type": "markdown",
   "metadata": {
    "slideshow": {
     "slide_type": "slide"
    }
   },
   "source": [
    "## Funciones"
   ]
  },
  {
   "cell_type": "code",
   "execution_count": 20,
   "metadata": {
    "slideshow": {
     "slide_type": "subslide"
    }
   },
   "outputs": [
    {
     "name": "stdout",
     "output_type": "stream",
     "text": [
      "Suma de los primeros 5 números enteros vale 15\n",
      "Suma de los primeros 20 números enteros vale 210\n",
      "¿Cuántos de los primeros enteros quieres que sume? 76\n",
      "El valor de la suma de los 76 primeros enteros es 2926\n",
      "\n"
     ]
    }
   ],
   "source": [
    "#### Las funciones se definen usando \"def\" y devuelven el valor dado por \"return\"\n",
    "\n",
    "def suma(limite):       \n",
    "    suma = 0\n",
    "    for i in range(1,limite+1):    \n",
    "        suma = suma + i\n",
    "    return(suma)            \n",
    "\n",
    "\n",
    "print(\"Suma de los primeros 5 números enteros vale\",suma(5))\n",
    "print(\"Suma de los primeros 20 números enteros vale\",suma(20))\n",
    "\n",
    "\n",
    "\n",
    "valor_suma = 0\n",
    "while (valor_suma < :\n",
    "    num_enteros = int(input(\"¿Cuántos de los primeros enteros quieres que sume? \"))\n",
    "    valor_suma = suma(num_enteros)\n",
    "    print(\"El valor de la suma de los\",num_enteros,\"primeros enteros es\",valor_suma)\n",
    "    print()"
   ]
  }
 ],
 "metadata": {
  "celltoolbar": "Slideshow",
  "kernelspec": {
   "display_name": "Python 3",
   "language": "python",
   "name": "python3"
  },
  "language_info": {
   "codemirror_mode": {
    "name": "ipython",
    "version": 3
   },
   "file_extension": ".py",
   "mimetype": "text/x-python",
   "name": "python",
   "nbconvert_exporter": "python",
   "pygments_lexer": "ipython3",
   "version": "3.7.6"
  },
  "rise": {
   "enable_chalkboard": true
  }
 },
 "nbformat": 4,
 "nbformat_minor": 4
}
