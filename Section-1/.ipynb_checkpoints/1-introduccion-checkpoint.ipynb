{
 "cells": [
  {
   "cell_type": "markdown",
   "metadata": {
    "slideshow": {
     "slide_type": "slide"
    }
   },
   "source": [
    "# Introducción a Python\n",
    "\n",
    "Autores: Rafael Vida Delgado, Diego A. Tejada Arango\n",
    "\n",
    "Fecha: Julio 2020\n",
    "\n",
    "Descripción: Introducción a Python para Análisis de Datos y Machine Learning\n",
    "\n"
   ]
  },
  {
   "cell_type": "markdown",
   "metadata": {
    "slideshow": {
     "slide_type": "subslide"
    }
   },
   "source": [
    "## Descripción del curso \n",
    "\n",
    "El objetivo del curso aprender Python, orientado sobre todo en caracterísicas básicas del lenguaje de programación. No queremos que seáis programadores en éste lenguaje, pretendemos que usarlo y que podáis usarlo para cubrir las necesidades básicas relacionada con la analítica de datos, inferencia estadística y Análisis Exploratorio de datos, así como la generación de modelos predictivos.\n",
    "\n",
    "Aprenderemos a: \n",
    "<ol>\n",
    "<li>usar comandos básicos de Python,</li>\n",
    "<li>usar las librerías más relevantes: Numpy, Pandas, Matplotlib y Scikit-Learn</li>\n",
    "<li>cargar ficheros de datos y atratar con esos datos, </li>\n",
    "<li>hacer un EDA (Exploratory Data Analysis) básico,</li>\n",
    "<li>crear modelos predictivos.</li>\n",
    "</ol>\n",
    "\n",
    "Os proporcionamos soporte documental para todo eso, así podreis revisitarlo cuando os haga falta. Y os pasaremos enlances a sitios con buenos ejemplos."
   ]
  },
  {
   "cell_type": "markdown",
   "metadata": {
    "slideshow": {
     "slide_type": "slide"
    }
   },
   "source": [
    "## Funciones básicas"
   ]
  },
  {
   "cell_type": "code",
   "execution_count": 1,
   "metadata": {
    "slideshow": {
     "slide_type": "subslide"
    }
   },
   "outputs": [
    {
     "name": "stdout",
     "output_type": "stream",
     "text": [
      "Hola, estoy harto de Covid-19.\n"
     ]
    }
   ],
   "source": [
    "print(\"Hola, estoy harto de Covid-19.\")"
   ]
  },
  {
   "cell_type": "markdown",
   "metadata": {
    "slideshow": {
     "slide_type": "slide"
    }
   },
   "source": [
    "## Operadores, tipos de variables y cómo asignarlas"
   ]
  },
  {
   "cell_type": "markdown",
   "metadata": {
    "slideshow": {
     "slide_type": "subslide"
    }
   },
   "source": [
    "### Operadores aritméticos\n",
    "|Operator |Description            |Syntax|\n",
    "|:-------:|:---------------------:|:----:|\n",
    "|+        |Addition               |a + b |\n",
    "|-        |Subtraction            |a – b |\n",
    "|*        |Multiplication         |a * b |\n",
    "|/        |Division (float)       |a / b |\n",
    "|//       |Floor division         |a // b|\n",
    "|%        |Modulus (remainder)    |a % b |\n",
    "|**       |Exponentiation (power) |a ** b|"
   ]
  },
  {
   "cell_type": "markdown",
   "metadata": {
    "slideshow": {
     "slide_type": "subslide"
    }
   },
   "source": [
    "### Operadores de comparación\n",
    "|Operator |Description              |Syntax|\n",
    "|:-------:|:-----------------------:|:----:|\n",
    "|==       |Equal                    |a == b|\n",
    "|!=       |Not equal                |a != b|\n",
    "|>        |Greater than             |a > b |\n",
    "|<        |Lower than               |a > b |\n",
    "|>=       |Greater than or equal to |a >= b|\n",
    "|<=       |Lower than or equal to   |a <= b|"
   ]
  },
  {
   "cell_type": "markdown",
   "metadata": {
    "slideshow": {
     "slide_type": "subslide"
    }
   },
   "source": [
    "### Variables numéricas"
   ]
  },
  {
   "cell_type": "code",
   "execution_count": 2,
   "metadata": {
    "slideshow": {
     "slide_type": "subslide"
    }
   },
   "outputs": [
    {
     "name": "stdout",
     "output_type": "stream",
     "text": [
      "El valor de a es  35\n",
      "El valor de b es  23\n",
      "a+b= 58\n",
      "a+b= 58\n",
      "a*b= 805\n"
     ]
    },
    {
     "data": {
      "text/plain": [
       "30"
      ]
     },
     "execution_count": 2,
     "metadata": {},
     "output_type": "execute_result"
    }
   ],
   "source": [
    "# Variables numéricas enteras (tipo int)\n",
    "\n",
    "a = 35                   # Asigna el valor 30 a la variable a. Aquí no hay ->\n",
    "b = 23                \n",
    "Resultado = a + b           # Asigna el resultado de la suma de a y b a Resultado\n",
    "print(\"El valor de a es \",a)\n",
    "print(\"El valor de b es \",b)\n",
    "print(\"a+b=\",Resultado)\n",
    "print(\"a+b=\",a+b)        #También podemos hacerlo directamente\n",
    "\n",
    "print(\"a*b=\",a*b)        #Y el resto de operaciones ariméticas\n",
    "3+4\n",
    "5*6"
   ]
  },
  {
   "cell_type": "code",
   "execution_count": 3,
   "metadata": {
    "slideshow": {
     "slide_type": "subslide"
    }
   },
   "outputs": [
    {
     "name": "stdout",
     "output_type": "stream",
     "text": [
      "False\n",
      "True\n",
      "True\n",
      "False\n",
      "True\n",
      "False\n"
     ]
    }
   ],
   "source": [
    "# Ahora comparemos los valores\n",
    "a = 35\n",
    "b = 23                \n",
    "print(a == b) # False\n",
    "print(a != b) # True\n",
    "print(a > b ) # True\n",
    "print(a < b ) # False\n",
    "print(a >= b) # True\n",
    "print(a <= b) # False"
   ]
  },
  {
   "cell_type": "code",
   "execution_count": 4,
   "metadata": {
    "slideshow": {
     "slide_type": "subslide"
    }
   },
   "outputs": [
    {
     "name": "stdout",
     "output_type": "stream",
     "text": [
      "El área del triángulo es 270.7305\n",
      "<class 'float'>\n"
     ]
    }
   ],
   "source": [
    "# Variables con valores reales.(float)\n",
    "base = 30.3\n",
    "altura = 17.87\n",
    "\n",
    "area=base*altura/2\n",
    "print(\"El área del triángulo es\",area)\n",
    "print(type(area))\n"
   ]
  },
  {
   "cell_type": "code",
   "execution_count": 5,
   "metadata": {
    "slideshow": {
     "slide_type": "subslide"
    }
   },
   "outputs": [
    {
     "name": "stdout",
     "output_type": "stream",
     "text": [
      "Hola,  estoy harto de Covid-19r\n",
      "Diego Tejada\n",
      "mi edad es: 37\n"
     ]
    }
   ],
   "source": [
    "# Variable tipo char (caracteres) o string (cadena de caracteres)\n",
    "hecho = \"estoy harto de Covid-19r\"\n",
    "print(\"Hola, \",hecho)\n",
    "\n",
    "# se pueden concatenar variables\n",
    "nombre = 'Diego'\n",
    "apellido = 'Tejada'\n",
    "nombre_completo = nombre + ' ' + apellido\n",
    "print(nombre_completo)\n",
    "\n",
    "# e incluso variables numéricas, pero hay que tener cuidado...\n",
    "edad = 37\n",
    "#mensaje = \"mi edad es: \" + edad\n",
    "mensaje = \"mi edad es: \" + str(edad) # la función str() convierte números en strings\n",
    "print(mensaje)"
   ]
  },
  {
   "cell_type": "code",
   "execution_count": 6,
   "metadata": {
    "slideshow": {
     "slide_type": "subslide"
    }
   },
   "outputs": [
    {
     "name": "stdout",
     "output_type": "stream",
     "text": [
      "La variable a es  True\n",
      "<class 'bool'>\n",
      "True\n",
      "True\n",
      "False\n"
     ]
    }
   ],
   "source": [
    "#Variables booleanas: True/False\n",
    "a=True\n",
    "print(\"La variable a es \",a)\n",
    "\n",
    "a = 12\n",
    "b = 4\n",
    "resultado = a > b\n",
    "print(type(resultado))\n",
    "print(resultado)\n",
    "print(a > b)\n",
    "print(a<b)"
   ]
  },
  {
   "cell_type": "markdown",
   "metadata": {
    "slideshow": {
     "slide_type": "slide"
    }
   },
   "source": [
    "## Listas"
   ]
  },
  {
   "cell_type": "code",
   "execution_count": 7,
   "metadata": {
    "cell_style": "center",
    "slideshow": {
     "slide_type": "subslide"
    }
   },
   "outputs": [
    {
     "name": "stdout",
     "output_type": "stream",
     "text": [
      "['hola', '3', 'verde']\n",
      "longitud 3\n",
      "Ahora la longitud de la lista es 4\n",
      "['hola', '3', 'verde', 34]\n"
     ]
    }
   ],
   "source": [
    "# Corchetes\n",
    "lista_1 = [] # Esta es una lista vacía. Alternativa: lista_1 = list()\n",
    "lista_1 = [\"hola\",\"3\",\"verde\"] #Esta es una lista con valores iniciales\n",
    "\n",
    "print(lista_1)\n",
    "print(\"longitud\",len(lista_1))\n",
    "\n",
    "# Se accede a cada elemento por la posición. 0 es la primera. La última se denota por -1\n",
    "lista_1[0]\n",
    "lista_1[-1]\n",
    "\n",
    "# Empezamos con la programación orientada a objeto. Usaremos métodos de las clases.\n",
    "# elemento = input(\"Indica un valor: \")\n",
    "elemento=34\n",
    "lista_1.append(elemento)\n",
    "print(\"Ahora la longitud de la lista es\",len(lista_1))\n",
    "\n",
    "print(lista_1)\n"
   ]
  },
  {
   "cell_type": "code",
   "execution_count": 8,
   "metadata": {
    "slideshow": {
     "slide_type": "subslide"
    }
   },
   "outputs": [
    {
     "name": "stdout",
     "output_type": "stream",
     "text": [
      "False\n",
      "True\n",
      "True\n"
     ]
    }
   ],
   "source": [
    "# También se puede verificar si un elemento está en una list\n",
    "print(3           in lista_1) # False (¿por qué?)\n",
    "print(\"3\"         in lista_1) # True\n",
    "print(\"Covid\" not in lista_1) # True"
   ]
  },
  {
   "cell_type": "code",
   "execution_count": 9,
   "metadata": {
    "slideshow": {
     "slide_type": "subslide"
    }
   },
   "outputs": [
    {
     "name": "stdout",
     "output_type": "stream",
     "text": [
      "['hola', '3', 'verde', 34]\n",
      "['hola', '3']\n",
      "[34]\n",
      "['3', 'verde', 34]\n",
      "['3', 'verde']\n",
      "['hola', 'verde']\n",
      "['3', 34]\n"
     ]
    }
   ],
   "source": [
    "print(lista_1)\n",
    "# se puede crear una lista con una parte de una lista\n",
    "primeros_dos = lista_1[:2] #Notar que el intervalo es [0,2)\n",
    "print(primeros_dos)\n",
    "# ultimos tres\n",
    "ultimos_tres = lista_1[3:] #¿es correcto?\n",
    "print(ultimos_tres)\n",
    "ultimos_tres = lista_1[-3:] # y, ¿ahora?\n",
    "print(ultimos_tres)\n",
    "# el segundo y el tercero\n",
    "segundo_tercero = lista_1[1:3] # recordar que el intervalo es [1, 3) y que se inicia en 0\n",
    "print(segundo_tercero)\n",
    "# saltar elementos\n",
    "elementos_impares = lista_1[::2] # ['hola', 'verde']\n",
    "print(elementos_impares)\n",
    "elementos_impares = lista_1[1:4:2] # ['3', 34]\n",
    "print(elementos_impares)"
   ]
  },
  {
   "cell_type": "code",
   "execution_count": 10,
   "metadata": {
    "cell_style": "center",
    "slideshow": {
     "slide_type": "subslide"
    }
   },
   "outputs": [
    {
     "name": "stdout",
     "output_type": "stream",
     "text": [
      "[12, 3, 10, 6, 9]\n",
      "La suma es 40\n",
      "3\n",
      "[3, 6, 9, 10, 12]\n",
      "[12, 10, 9, 6, 3]\n",
      "['hola', '3', 'verde', 34, [12, 3, 10, 6, 9]]\n",
      "[12, 3, 10, 6, 9]\n",
      "12\n"
     ]
    }
   ],
   "source": [
    "# Las listas pueden ser de cualquier tipo de variable\n",
    "# También podemos tener listas de números\n",
    "lista_2 = [12, 3, 10, 6, 9]\n",
    "suma = sum(lista_2)\n",
    "\n",
    "print(lista_2)\n",
    "print(\"La suma es\",suma)\n",
    "\n",
    "# Y otras posibles funciones\n",
    "print(min(lista_2))\n",
    "print(sorted(lista_2)) #ordenar ascendente\n",
    "print(sorted(lista_2,reverse=True)) #ordenar descendente\n",
    "\n",
    "#Podemos hacer listas de listas:\n",
    "lista_1.append(lista_2)\n",
    "print(lista_1)\n",
    "print(lista_1[4])\n",
    "print(lista_1[4][0])"
   ]
  },
  {
   "cell_type": "code",
   "execution_count": 11,
   "metadata": {
    "slideshow": {
     "slide_type": "subslide"
    }
   },
   "outputs": [
    {
     "name": "stdout",
     "output_type": "stream",
     "text": [
      "['amarillo', 'hola', '3', 'verde', 34, [12, 3, 10, 6, 9]]\n",
      "['amarillo', 'hola', 50, '3', 'verde', 34, [12, 3, 10, 6, 9]]\n",
      "['amarillo', 'hola', '3', 'verde', 34, [12, 3, 10, 6, 9]]\n",
      "['hola', '3', 'verde', 34, [12, 3, 10, 6, 9]]\n"
     ]
    }
   ],
   "source": [
    "# también se pueden insertar elementos después de una posición\n",
    "lista_1.insert(0, \"amarillo\") \n",
    "print(lista_1)\n",
    "lista_1.insert(2, 50) \n",
    "print(lista_1)\n",
    "\n",
    "# borrar elementos por posición\n",
    "del lista_1[2]\n",
    "print(lista_1)\n",
    "\n",
    "# o borrar por valor\n",
    "lista_1.remove(\"amarillo\") # solo borra la primera coincidencia\n",
    "print(lista_1)\n"
   ]
  },
  {
   "cell_type": "markdown",
   "metadata": {
    "slideshow": {
     "slide_type": "slide"
    }
   },
   "source": [
    "## Decisión: If"
   ]
  },
  {
   "cell_type": "code",
   "execution_count": 12,
   "metadata": {
    "slideshow": {
     "slide_type": "subslide"
    }
   },
   "outputs": [
    {
     "name": "stdout",
     "output_type": "stream",
     "text": [
      "Es cierto\n",
      "Valores de las variables:  9.2 , 123\n",
      "Las variables x e y no son iguales\n",
      "Las variables no son iguales\n"
     ]
    }
   ],
   "source": [
    "#if básico\n",
    "if (7 > 3):\n",
    "    print(\"Es cierto\")\n",
    "\n",
    "y = 123\n",
    "x = 9.2\n",
    "\n",
    "print(\"Valores de las variables: \",x,\",\",y)\n",
    "\n",
    "#If con else\n",
    "if (x == y):\n",
    "    print(\"Las variables son iguales\")\n",
    "else:\n",
    "    print(\"Las variables x e y no son iguales\")\n",
    "    \n",
    "#Ifs anidados:\n",
    "if (x != y):\n",
    "    print(\"Las variables no son iguales\")\n",
    "elif (x>y):\n",
    "    print(\"La variables x es mayor que y\")\n",
    "else:\n",
    "    print(\"Otros casos\")"
   ]
  },
  {
   "cell_type": "markdown",
   "metadata": {
    "slideshow": {
     "slide_type": "slide"
    }
   },
   "source": [
    "## Bucles"
   ]
  },
  {
   "cell_type": "code",
   "execution_count": 13,
   "metadata": {
    "slideshow": {
     "slide_type": "subslide"
    }
   },
   "outputs": [
    {
     "name": "stdout",
     "output_type": "stream",
     "text": [
      "1\n",
      "2\n",
      "3\n",
      "4\n",
      "5\n",
      "6\n",
      "9\n",
      "8\n",
      "5\n",
      "Queremos repetir un bucle 7 veces\n",
      "0 --> 2\n",
      "1 --> 4\n",
      "2 --> 6\n",
      "3 --> 8\n",
      "4 --> 10\n",
      "5 --> 12\n",
      "6 --> 14\n",
      "117\n"
     ]
    }
   ],
   "source": [
    "# While\n",
    "a = 1\n",
    "while (a < 7):\n",
    "    print(a)\n",
    "    a = a + 1\n",
    "    \n",
    "# Bucles for, muy interesantes en Python\n",
    "for i in [9,8,5]:\n",
    "    print(i)\n",
    "\n",
    "print(\"Queremos repetir un bucle 7 veces\")\n",
    "a = 0\n",
    "for i in range(7):\n",
    "    a = a + 2\n",
    "    print(i,\"-->\",a)\n",
    "    \n",
    "suma = 0\n",
    "for i in range(3,16):    # del 3 al 15 de uno en uno, el último valor nunca se alcanza\n",
    "    suma = suma + i\n",
    "print(suma)"
   ]
  },
  {
   "cell_type": "markdown",
   "metadata": {
    "slideshow": {
     "slide_type": "slide"
    }
   },
   "source": [
    "## Funciones"
   ]
  },
  {
   "cell_type": "code",
   "execution_count": 14,
   "metadata": {
    "slideshow": {
     "slide_type": "subslide"
    }
   },
   "outputs": [
    {
     "name": "stdout",
     "output_type": "stream",
     "text": [
      "Suma de los primeros 5 números enteros vale 15\n",
      "Suma de los primeros 20 números enteros vale 210\n",
      "¿Cuántos de los primeros enteros quieres que sume? 3\n",
      "El valor de la suma de los 3 primeros enteros es 6\n",
      "\n",
      "¿Cuántos de los primeros enteros quieres que sume? 7\n",
      "El valor de la suma de los 7 primeros enteros es 28\n",
      "\n"
     ]
    }
   ],
   "source": [
    "#### Las funciones se definen usando \"def\" y devuelven el valor dado por \"return\"\n",
    "def suma(limite):       \n",
    "    suma = 0\n",
    "    for i in range(1,limite+1):    \n",
    "        suma = suma + i\n",
    "    return(suma)            \n",
    "\n",
    "print(\"Suma de los primeros 5 números enteros vale\",suma(5))\n",
    "print(\"Suma de los primeros 20 números enteros vale\",suma(20))\n",
    "\n",
    "valor_suma = 0\n",
    "while (valor_suma < 20):\n",
    "    num_enteros = int(input(\"¿Cuántos de los primeros enteros quieres que sume? \"))\n",
    "    valor_suma = suma(num_enteros)\n",
    "    print(\"El valor de la suma de los\",num_enteros,\"primeros enteros es\",valor_suma)\n",
    "    print()"
   ]
  },
  {
   "cell_type": "code",
   "execution_count": 15,
   "metadata": {},
   "outputs": [
    {
     "name": "stdout",
     "output_type": "stream",
     "text": [
      "1\n",
      "1\n"
     ]
    }
   ],
   "source": [
    "def resta(x,y):\n",
    "    return x-y\n",
    "\n",
    "print(resta(4,3))\n",
    "print(resta(y=3,x=4))"
   ]
  },
  {
   "cell_type": "markdown",
   "metadata": {
    "slideshow": {
     "slide_type": "slide"
    }
   },
   "source": [
    "### Alcance, namespaces"
   ]
  },
  {
   "cell_type": "code",
   "execution_count": 16,
   "metadata": {
    "slideshow": {
     "slide_type": "slide"
    }
   },
   "outputs": [
    {
     "name": "stdout",
     "output_type": "stream",
     "text": [
      "[0, 1, 2, 3, 4]\n",
      "[0, 1, 2, 3, 4, 0, 1, 2, 3, 4]\n",
      "[]\n",
      "[]\n"
     ]
    }
   ],
   "source": [
    "a=[]\n",
    "\n",
    "def funcion():\n",
    "    for i in range(5):\n",
    "        a.append(i)\n",
    "funcion()\n",
    "print(a)\n",
    "funcion()\n",
    "print(a)\n",
    "\n",
    "a=[]\n",
    "def funcion():\n",
    "    a=[]\n",
    "    for i in range(5):\n",
    "        a.append(i)\n",
    "funcion()\n",
    "print(a)\n",
    "funcion()\n",
    "print(a)"
   ]
  }
 ],
 "metadata": {
  "celltoolbar": "Slideshow",
  "kernelspec": {
   "display_name": "Python 3",
   "language": "python",
   "name": "python3"
  },
  "language_info": {
   "codemirror_mode": {
    "name": "ipython",
    "version": 3
   },
   "file_extension": ".py",
   "mimetype": "text/x-python",
   "name": "python",
   "nbconvert_exporter": "python",
   "pygments_lexer": "ipython3",
   "version": "3.7.6"
  },
  "rise": {
   "enable_chalkboard": true
  },
  "varInspector": {
   "cols": {
    "lenName": 16,
    "lenType": 16,
    "lenVar": 40
   },
   "kernels_config": {
    "python": {
     "delete_cmd_postfix": "",
     "delete_cmd_prefix": "del ",
     "library": "var_list.py",
     "varRefreshCmd": "print(var_dic_list())"
    },
    "r": {
     "delete_cmd_postfix": ") ",
     "delete_cmd_prefix": "rm(",
     "library": "var_list.r",
     "varRefreshCmd": "cat(var_dic_list()) "
    }
   },
   "types_to_exclude": [
    "module",
    "function",
    "builtin_function_or_method",
    "instance",
    "_Feature"
   ],
   "window_display": false
  }
 },
 "nbformat": 4,
 "nbformat_minor": 4
}
